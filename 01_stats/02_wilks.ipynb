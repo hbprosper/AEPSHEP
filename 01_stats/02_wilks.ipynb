{
 "cells": [
  {
   "cell_type": "markdown",
   "metadata": {
    "id": "40Yb47zJQglm"
   },
   "source": [
    "# Wilks' Theorem\n",
    " >__Created__:  15 Mar. 2023 for CLASHEP 23, Harrison B. Prosper<br>\n",
    " >**Updated**:  19 Jun. 2024, adapted for AEPSHEP 2024\n",
    "\n",
    "### Introduction \n",
    "Consider the 2-parameter statistical model discussed in the lectures:\n",
    "\n",
    "\\begin{align}\n",
    "    p(D | s, b) & = \\textrm{Poisson}(N, s + b) \\,\\textrm{Poisson}(M, k b),\n",
    "\\end{align}\n",
    "\n",
    "where $D = N, M$ are the observed data, $N$ is the count in the signal region and $M$ the count in either a background-dominated region or a Monte Carlo simulation of the background. The background estimate in the signal region is $B \\pm \\delta B = M / k \\pm \\sqrt{M} / k$. \n",
    "\n",
    "### Wilks' Theorem\n",
    "Given certain conditions, principally that we have enough data and the parameter estimates do not lie on the *boundary* of the $(s, b)$ parameter space, this theorem states that the distribution of the statistic\n",
    "\n",
    "\\begin{align}\n",
    "    t_\\theta(D) & = -  2 \\log \\left[ \\frac{p(D | s, b)}{p(D | \\hat{s}, \\hat{b})} \\right] ,\n",
    "\\end{align}\n",
    "\n",
    "where $\\theta = s, b$ is *approximately* that of a $\\chi^2$ variable of 2 degrees of freedom."
   ]
  },
  {
   "cell_type": "code",
   "execution_count": 1,
   "metadata": {
    "id": "FA1Y5VCv20XZ"
   },
   "outputs": [],
   "source": [
    "import os, sys\n",
    "\n",
    "# the standard module for tabular data\n",
    "import pandas as pd\n",
    "\n",
    "# the standard module for array manipulation\n",
    "import numpy as np\n",
    "\n",
    "# the standard modules for high-quality plots\n",
    "import matplotlib as mp\n",
    "import matplotlib.pyplot as plt\n",
    "\n",
    "# standard scientific python module\n",
    "import scipy as sp\n",
    "import scipy.stats as st\n",
    "import scipy.optimize as op\n",
    "\n",
    "%matplotlib inline"
   ]
  },
  {
   "cell_type": "code",
   "execution_count": 2,
   "metadata": {},
   "outputs": [],
   "source": [
    "# update fonts\n",
    "FONTSIZE = 18\n",
    "font = {'family' : 'serif',\n",
    "        'weight' : 'normal',\n",
    "        'size'   : FONTSIZE}\n",
    "mp.rc('font', **font)\n",
    "\n",
    "# set usetex = False if LaTex is not \n",
    "# available on your system or if the \n",
    "# rendering is too slow\n",
    "mp.rc('text', usetex=True)\n",
    "\n",
    "# set a seed to ensure reproducibility\n",
    "seed = 128\n",
    "rnd  = np.random.RandomState(seed)"
   ]
  },
  {
   "attachments": {},
   "cell_type": "markdown",
   "metadata": {
    "id": "NJC916BU-9L6"
   },
   "source": [
    "### CMS 2014 $H \\rightarrow Z Z \\rightarrow 4 \\ell$ summary data\n",
    "\n",
    "CMS Collaboration, Phys. Rev. **D89**, 092007 (2014)"
   ]
  },
  {
   "cell_type": "code",
   "execution_count": 3,
   "metadata": {},
   "outputs": [],
   "source": [
    "class Bag:\n",
    "    pass\n",
    "bag = Bag()\n",
    "\n",
    "bag.N = 25\n",
    "bag.M = 353\n",
    "bag.k = 37.6\n",
    "bag.N1= bag.N\n",
    "bag.M1= bag.M"
   ]
  },
  {
   "cell_type": "markdown",
   "metadata": {},
   "source": [
    "### Define statistical model and statistic $t_\\theta(D)$\n",
    "\n",
    "For continuous distributions, such as a Gaussian, we refer to the __probability density function (pdf)__ from which a probability can be computed by integrating the pdf over an interval in the space of observations. For discrete distributions, we refer to their functional forms as __probability mass functions (pmf)__. "
   ]
  },
  {
   "cell_type": "code",
   "execution_count": 4,
   "metadata": {},
   "outputs": [],
   "source": [
    "def loglikelihood(D, s, b):\n",
    "    N = D.N\n",
    "    M = D.M\n",
    "    k = D.k\n",
    "    ll  = st.poisson.logpmf(N, s+b)\n",
    "    ll += st.poisson.logpmf(M, k * b)\n",
    "    return ll\n",
    "\n",
    "def logsuplikelihood(D, tiny=1.e-20):\n",
    "    N = D.N\n",
    "    M = D.M\n",
    "    return st.poisson.logpmf(N, N) +  st.poisson.logpmf(M, M)\n",
    "\n",
    "def statistic(D, s, b):\n",
    "    return -2*(loglikelihood(D, s, b) - logsuplikelihood(D))"
   ]
  },
  {
   "cell_type": "markdown",
   "metadata": {},
   "source": [
    "### Find the best-fit values of the parameters"
   ]
  },
  {
   "cell_type": "code",
   "execution_count": 5,
   "metadata": {},
   "outputs": [],
   "source": [
    "def best_fit(statistic, D):\n",
    "    \n",
    "    def nll(params, *args):\n",
    "        s, b = params\n",
    "        t, D = args\n",
    "        return t(D, s, b)\n",
    "    \n",
    "    # --------------------\n",
    "    # find best-fit value\n",
    "    # --------------------\n",
    "    guess   = [10.0, 10.0]\n",
    "    results = op.minimize(nll, guess, args=(statistic, bag), \n",
    "                          method='Nelder-Mead')\n",
    "    return results"
   ]
  },
  {
   "cell_type": "code",
   "execution_count": 6,
   "metadata": {},
   "outputs": [
    {
     "data": {
      "text/plain": [
       "       message: Optimization terminated successfully.\n",
       "       success: True\n",
       "        status: 0\n",
       "           fun: 7.224798537208699e-11\n",
       "             x: [ 1.561e+01  9.388e+00]\n",
       "           nit: 42\n",
       "          nfev: 83\n",
       " final_simplex: (array([[ 1.561e+01,  9.388e+00],\n",
       "                       [ 1.561e+01,  9.388e+00],\n",
       "                       [ 1.561e+01,  9.388e+00]]), array([ 7.225e-11,  8.698e-11,  2.264e-10]))"
      ]
     },
     "execution_count": 6,
     "metadata": {},
     "output_type": "execute_result"
    }
   ],
   "source": [
    "results = best_fit(statistic, bag)\n",
    "results"
   ]
  },
  {
   "cell_type": "markdown",
   "metadata": {},
   "source": [
    "### Plot confidence sets"
   ]
  },
  {
   "cell_type": "code",
   "execution_count": 7,
   "metadata": {},
   "outputs": [],
   "source": [
    "def plot_confidence_set(t, D, results=None,\n",
    "                        xbins=30, xmin=0, xmax=30, \n",
    "                        ybins=30, ymin=8, ymax=11,\n",
    "                        filename='confidence_set.png',\n",
    "                        fgsize=(5, 5), ftsize=18):\n",
    "                        \n",
    "    # make 1 sub-plot\n",
    "    fig, ax = plt.subplots(nrows=1, ncols=1, figsize=fgsize)\n",
    "    \n",
    "    ax.set_xlim(xmin, xmax)\n",
    "    ax.set_xlabel(r'$s$', fontsize=ftsize)\n",
    "    \n",
    "    ax.set_ylim(ymin, ymax)\n",
    "    ax.set_ylabel(r'$b$', fontsize=ftsize)\n",
    "    \n",
    "    # compute chi2 levels for 2 degrees of freedom\n",
    "    # for 0.5sigma, 1sigma etc.\n",
    "    NDF = 2\n",
    "    mylevels = np.array([st.chi2.ppf(st.chi2.cdf(0.5, 1), NDF), # chi2 level for 0.5sigma\n",
    "                         st.chi2.ppf(st.chi2.cdf(1.0, 1), NDF), # chi2 level for 1.0sigma\n",
    "                         st.chi2.ppf(st.chi2.cdf(1.5, 1), NDF), # etc.\n",
    "                         st.chi2.ppf(st.chi2.cdf(2.0, 1), NDF)])\n",
    "\n",
    "    # ----------------------------------------------\n",
    "    # compute statistic at every grid point\n",
    "    # then reshape to a 2d array\n",
    "    # ----------------------------------------------      \n",
    "    xstep = (xmax - xmin)/xbins\n",
    "    ystep = (ymax - ymin)/ybins\n",
    "    \n",
    "    x     = np.arange(xmin, xmax, xstep) + xstep/2\n",
    "    y     = np.arange(ymin, ymax, ystep) + ystep/2\n",
    "    \n",
    "    X, Y  = np.meshgrid(x, y)\n",
    "    x     = X.flatten()\n",
    "    y     = Y.flatten()\n",
    "    \n",
    "    N, M  = D.N, D.M\n",
    "    F     = t(D, x, y).reshape(X.shape)\n",
    "\n",
    "    # use levels to compute desired contours\n",
    "    cs = ax.contour(X, Y, F, \n",
    "                    extent=(xmin, xmax, ymin, ymax),\n",
    "                    levels=mylevels, \n",
    "                    linewidths=2,\n",
    "                    cmap='rainbow') \n",
    "\n",
    "    # annotate contours\n",
    "    cs.levels= [r'$0.5\\sigma$', \n",
    "                r'$1.0\\sigma$', \n",
    "                r'$1.5\\sigma$', \n",
    "                r'$2.0\\sigma$']\n",
    "    \n",
    "    ax.clabel(cs, cs.levels, inline=True, \n",
    "              fontsize=18, fmt='%s',  \n",
    "              colors='black')\n",
    "\n",
    "    if results:\n",
    "        if results.success:\n",
    "            s, b = results.x\n",
    "            ax.scatter(s, b, s=80, c='black')\n",
    "\n",
    "            xpos = xmin + 0.1*(xmax-xmin)\n",
    "            ypos = ymin + 0.9*(ymax-ymin)\n",
    "\n",
    "            ax.text(xpos, ypos, \n",
    "                r'$s: %6.1f$\\,\\,\\,\\,$b: %6.1f$' % (s, b), \n",
    "                    fontsize=ftsize)\n",
    "\n",
    "    ax.grid()\n",
    "\n",
    "    plt.tight_layout()\n",
    "\n",
    "    if filename != None:\n",
    "        print('saved to file:', filename)\n",
    "        plt.savefig(filename)\n",
    "\n",
    "    plt.show()\n"
   ]
  },
  {
   "cell_type": "code",
   "execution_count": 8,
   "metadata": {},
   "outputs": [
    {
     "name": "stdout",
     "output_type": "stream",
     "text": [
      "saved to file: confidence_set.png\n"
     ]
    },
    {
     "data": {
      "image/png": "[encoded data removed]",
      "text/plain": [
       "<Figure size 500x500 with 1 Axes>"
      ]
     },
     "metadata": {},
     "output_type": "display_data"
    }
   ],
   "source": [
    "plot_confidence_set(statistic, bag, results)"
   ]
  },
  {
   "cell_type": "markdown",
   "metadata": {},
   "source": [
    "## Check coverage\n",
    "Choose a *fixed* parameter point $(s_0, b_0)$.\n",
    "  1. simulate NEXP experiments\n",
    "  1. compute statistic $t(D)$ for each experiment\n",
    "  1. compute $cdf(t(D) = P(\\chi^2 < t(D)|s_0, b_0)$\n",
    "  1. count how often $cdf < CL$\n",
    "  1. compute coverage"
   ]
  },
  {
   "cell_type": "code",
   "execution_count": 9,
   "metadata": {},
   "outputs": [
    {
     "name": "stdout",
     "output_type": "stream",
     "text": [
      "true s:   15.6\n",
      "true b:    9.4\n",
      "coverage:  0.678\n"
     ]
    }
   ],
   "source": [
    "# 0. choose a \"true\" parameter point\n",
    "bag.s0 = results.x[0]      # choose as signal mean\n",
    "bag.b0 = results.x[1]      # choose as background mean\n",
    "NEXP   = 10000   # number of experiments to simulate\n",
    "\n",
    "print(f'true s: {bag.s0:6.1f}')\n",
    "print(f'true b: {bag.b0:6.1f}')\n",
    "\n",
    "# 1. simulate experiments\n",
    "N0 = st.poisson.rvs(bag.s0 + bag.b0, size=NEXP)\n",
    "M0 = st.poisson.rvs(bag.k  * bag.b0, size=NEXP)\n",
    "\n",
    "# 2. compute statistic for each experiment\n",
    "bag.N = N0\n",
    "bag.M = M0\n",
    "t = statistic(bag, bag.s0, bag.b0)\n",
    "\n",
    "# 3. compute cdf assuming t is a chi2 variate of 2 degrees of freedom\n",
    "ndf = 2\n",
    "cdf = st.chi2.cdf(t, ndf)\n",
    "\n",
    "# 4. count how often confidence set includes true means\n",
    "CL  = 0.683\n",
    "k   = cdf < CL\n",
    "\n",
    "# 5. compute coverage\n",
    "coverage = k.sum() / NEXP\n",
    "\n",
    "print(f'coverage: {coverage:6.3f}')"
   ]
  },
  {
   "cell_type": "code",
   "execution_count": 10,
   "metadata": {},
   "outputs": [],
   "source": [
    "def plot_distribution(t, \n",
    "                      xbins=60, xmin=0, xmax=15, \n",
    "                      ymin=0, ymax=0.5,\n",
    "                        filename='statistic_distribution.png',\n",
    "                        fgsize=(5, 5), ftsize=18):\n",
    "                        \n",
    "    # make 1 sub-plot\n",
    "    fig, ax = plt.subplots(nrows=1, ncols=1, figsize=fgsize)\n",
    "    \n",
    "    ax.set_xlim(xmin, xmax)\n",
    "    ax.set_xlabel(r'$t(D)$', fontsize=ftsize)\n",
    "    \n",
    "    ax.set_ylim(ymin, ymax)\n",
    "    ax.set_ylabel(r'$p(t)$', fontsize=ftsize)\n",
    "    \n",
    "    # compute chi2 level for 2 degrees of freedom\n",
    "    # for 1sigma\n",
    "    xstep = (xmax-xmin)/xbins\n",
    "    x     = np.arange(xmin, xmax+xstep, xstep)\n",
    "    NDF   = 2\n",
    "    y     = st.chi2.pdf(x, NDF)\n",
    "\n",
    "    ax.hist(t, bins=xbins, \n",
    "            range=(xmin, xmax), \n",
    "            density=True, alpha=0.5, label='simulation')\n",
    "    \n",
    "    ax.plot(x, y, color='red', label=r'$p(\\chi^2|ndf=2)$')\n",
    "    ax.legend()\n",
    "    ax.grid()\n",
    "\n",
    "    plt.tight_layout()\n",
    "\n",
    "    plt.savefig(filename)\n",
    "    \n",
    "    plt.show()"
   ]
  },
  {
   "cell_type": "code",
   "execution_count": 11,
   "metadata": {},
   "outputs": [
    {
     "data": {
      "image/png": "[encoded data removed]",
      "text/plain": [
       "<Figure size 500x500 with 1 Axes>"
      ]
     },
     "metadata": {},
     "output_type": "display_data"
    }
   ],
   "source": [
    "plot_distribution(t)"
   ]
  },
  {
   "cell_type": "markdown",
   "metadata": {},
   "source": [
    "### Make an animated GIF of confidence sets"
   ]
  },
  {
   "cell_type": "code",
   "execution_count": 12,
   "metadata": {},
   "outputs": [],
   "source": [
    "def plot_1sigma_confidence_set(t, D, results=None,\n",
    "                        xbins=30, xmin=0, xmax=30, \n",
    "                        ybins=30, ymin=8, ymax=11,\n",
    "                        filename='confidence_set.png',\n",
    "                        fgsize=(5, 5), ftsize=18):\n",
    "                        \n",
    "    # make 1 sub-plot\n",
    "    fig, ax = plt.subplots(nrows=1, ncols=1, figsize=fgsize)\n",
    "    \n",
    "    ax.set_xlim(xmin, xmax)\n",
    "    ax.set_xlabel(r'$s$', fontsize=ftsize)\n",
    "    \n",
    "    ax.set_ylim(ymin, ymax)\n",
    "    ax.set_ylabel(r'$b$', fontsize=ftsize)\n",
    "    \n",
    "    # compute chi2 level for 2 degrees of freedom\n",
    "    # for 1sigma\n",
    "    NDF = 2\n",
    "    mylevels = np.array([st.chi2.ppf(st.chi2.cdf(1.0, 1), NDF)])\n",
    "\n",
    "    # ----------------------------------------------\n",
    "    # compute statistic at every grid point\n",
    "    # then reshape to a 2d array\n",
    "    # ----------------------------------------------      \n",
    "    xstep = (xmax - xmin)/xbins\n",
    "    ystep = (ymax - ymin)/ybins\n",
    "    \n",
    "    x     = np.arange(xmin, xmax, xstep) + xstep/2\n",
    "    y     = np.arange(ymin, ymax, ystep) + ystep/2\n",
    "    \n",
    "    X, Y  = np.meshgrid(x, y)\n",
    "    x     = X.flatten()\n",
    "    y     = Y.flatten()\n",
    "    \n",
    "    N, M  = D.N, D.M\n",
    "    F     = t(D, x, y).reshape(X.shape)\n",
    "\n",
    "    # use levels to compute desired contours\n",
    "    cs = ax.contour(X, Y, F, \n",
    "                    extent=(xmin, xmax, ymin, ymax),\n",
    "                    levels=mylevels, \n",
    "                    linewidths=2,\n",
    "                    cmap='rainbow') \n",
    "\n",
    "    # annotate contours\n",
    "    cs.levels= [r'$1.0\\sigma$']\n",
    "\n",
    "    ax.clabel(cs, cs.levels, inline=True, \n",
    "              fontsize=18, fmt='%s',  \n",
    "              colors='black')\n",
    "\n",
    "    ax.scatter(D.s0, D.b0, s=80, c='black')\n",
    "\n",
    "    ax.grid()\n",
    "\n",
    "    plt.tight_layout()\n",
    "\n",
    "    plt.savefig(filename)\n",
    "    \n",
    "    plt.close() # close file so we don't have too many open at once\n",
    "    \n",
    "    #plt.show()"
   ]
  },
  {
   "cell_type": "markdown",
   "metadata": {},
   "source": [
    "Make a 100 frames."
   ]
  },
  {
   "cell_type": "code",
   "execution_count": 13,
   "metadata": {},
   "outputs": [],
   "source": [
    "filenames = []\n",
    "for i in range(100):\n",
    "    j = i + 1\n",
    "    filename = 'f%3.3d.png' % j\n",
    "    filenames.append(filename)\n",
    "    \n",
    "    bag.N = N0[i]\n",
    "    bag.M = M0[j]\n",
    "    plot_1sigma_confidence_set(statistic, bag, filename=filename)"
   ]
  },
  {
   "cell_type": "markdown",
   "metadata": {},
   "source": [
    "Convert to animated GIF."
   ]
  },
  {
   "cell_type": "code",
   "execution_count": 14,
   "metadata": {},
   "outputs": [
    {
     "ename": "AttributeError",
     "evalue": "module 'imageio.v3' has no attribute 'get_writer'",
     "output_type": "error",
     "traceback": [
      "\u001b[0;31m---------------------------------------------------------------------------\u001b[0m",
      "\u001b[0;31mAttributeError\u001b[0m                            Traceback (most recent call last)",
      "Cell \u001b[0;32mIn[14], line 4\u001b[0m\n\u001b[1;32m      1\u001b[0m \u001b[38;5;28;01mimport\u001b[39;00m \u001b[38;5;21;01mimageio\u001b[39;00m\u001b[38;5;21;01m.\u001b[39;00m\u001b[38;5;21;01mv3\u001b[39;00m \u001b[38;5;28;01mas\u001b[39;00m \u001b[38;5;21;01mim\u001b[39;00m\n\u001b[1;32m      3\u001b[0m \u001b[38;5;66;03m# make gif\u001b[39;00m\n\u001b[0;32m----> 4\u001b[0m \u001b[38;5;28;01mwith\u001b[39;00m \u001b[43mim\u001b[49m\u001b[38;5;241;43m.\u001b[39;49m\u001b[43mget_writer\u001b[49m(\u001b[38;5;124m'\u001b[39m\u001b[38;5;124mcoverage.gif\u001b[39m\u001b[38;5;124m'\u001b[39m, mode\u001b[38;5;241m=\u001b[39m\u001b[38;5;124m'\u001b[39m\u001b[38;5;124mI\u001b[39m\u001b[38;5;124m'\u001b[39m, fps\u001b[38;5;241m=\u001b[39m\u001b[38;5;241m2\u001b[39m) \u001b[38;5;28;01mas\u001b[39;00m writer:\n\u001b[1;32m      5\u001b[0m     \u001b[38;5;28;01mfor\u001b[39;00m filename \u001b[38;5;129;01min\u001b[39;00m filenames:\n\u001b[1;32m      6\u001b[0m         image \u001b[38;5;241m=\u001b[39m im\u001b[38;5;241m.\u001b[39mimread(filename)\n",
      "\u001b[0;31mAttributeError\u001b[0m: module 'imageio.v3' has no attribute 'get_writer'"
     ]
    }
   ],
   "source": [
    "import imageio.v3 as im\n",
    "\n",
    "# make gif\n",
    "with im.get_writer('coverage.gif', mode='I', fps=2) as writer:\n",
    "    for filename in filenames:\n",
    "        image = im.imread(filename)\n",
    "        writer.append_data(image)\n",
    "        \n",
    "for filename in filenames:\n",
    "    os.system(f'rm -f {filename:s}')"
   ]
  },
  {
   "cell_type": "code",
   "execution_count": null,
   "metadata": {},
   "outputs": [],
   "source": []
  }
 ],
 "metadata": {
  "accelerator": "GPU",
  "colab": {
   "collapsed_sections": [],
   "name": "DRL_19_REINFORCE_Algorithm.ipynb",
   "provenance": []
  },
  "kernelspec": {
   "display_name": "Python 3 (ipykernel)",
   "language": "python",
   "name": "python3"
  },
  "language_info": {
   "codemirror_mode": {
    "name": "ipython",
    "version": 3
   },
   "file_extension": ".py",
   "mimetype": "text/x-python",
   "name": "python",
   "nbconvert_exporter": "python",
   "pygments_lexer": "ipython3",
   "version": "3.11.8"
  }
 },
 "nbformat": 4,
 "nbformat_minor": 4
}
