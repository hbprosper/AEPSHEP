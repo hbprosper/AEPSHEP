{
 "cells": [
  {
   "cell_type": "markdown",
   "metadata": {},
   "source": [
    "# A Bayesian Fit to ATLAS 4-lepton Open Data\n",
    "\n",
    " >**Created**: December 2022, Amsterdam Airport, Harrison B. Prosper<br>\n",
    " >**Updated**: Adapted Jun. 20 2024 for AEPSHEP\n",
    " \n",
    "\n",
    "## Introduction\n",
    "\n",
    "This notebook applies the fit developed in Ref.[1] to perform a signal + background fit to the 2020 ATLAS 4-lepton Open Data. You will need to download the GitHub package $\\texttt{pgammafit}$ using:\n",
    "\n",
    "```bash\n",
    "git clone https://github.com/hprosper/pgammafit\n",
    "```\n",
    "and compile and install it. The statistical model is given by\n",
    "\n",
    "\\begin{align}\n",
    "    p(D | a, p) & = L(D | a, p) \\, \\pi(a), \\quad\\text{where}\\\\\n",
    "    L(D | a, p) & = \\prod_{i=1}^M \\frac{\\exp(-d_i) \\, d_i^{D_i}}{D_i!},\\\\\n",
    "    d_i & = \\sum_{j=1}^N p_i \\, a_{ji}, \\quad\\text{and}\\\\\n",
    "    \\pi(a) & = \\prod_{i=1}^M \\prod_{j=1}^N \\frac{\\exp(-a_{ji}) \\, a_{ji}^{A_{ji}}}{\\Gamma(A_{ji}+1)} .\n",
    "\\end{align}\n",
    "If $\\pi(a, K)$ is interpreted as an informative prior, we can marginalize over the $M \\times N$ quantities $a_{ji}$ to find the marginal likelihood,\n",
    "\\begin{align}\n",
    "    l(D | p) & = \\prod_{i=1}^M \\sum_{k_1,\\cdots,k_N = 0}^{D_i} \\prod_{j=1}^N \\binom{A_{ji} + k_j}{k_j} \\frac{p_j^{k_j}}{\\left(1 + p_j^{A_{ji} + k_j + 1}\\right)} \\text{ with } \\sum_{j=1}^N k_j = D_i .\n",
    "\\end{align}\n",
    "The interpretation of the coefficients $p_j$ depends on the interpretation of the counts $A_{ji}$. For example, suppose that the signal channel corresponds to $j = 1$ and for that channel $A_{1i}$ are the predicted signal counts given the integrated luminosity associated with the observations $\\{ D_i \\}$. Then $p_1 = \\mu = \\sigma / \\sigma_\\text{SM}$, that is, it would be the so-called **signal strength**, where $\\sigma_\\text{SM}$ is the Standard Model cross section.\n",
    "\n",
    "### References\n",
    "  1. P.C. Bhat, H.B. Prosper, S.S. Snyder, *Bayesian analysis of multi-source data*, Phys. Lett. B Volume 407, Issue 1, 21 August 1997, Pages 73-78"
   ]
  },
  {
   "cell_type": "code",
   "execution_count": 1,
   "metadata": {},
   "outputs": [
    {
     "name": "stdout",
     "output_type": "stream",
     "text": [
      "Welcome to JupyROOT 6.30/02\n",
      "loaded pgammafit\n"
     ]
    }
   ],
   "source": [
    "import os, sys\n",
    "\n",
    "# the standard module for tabular data\n",
    "import pandas as pd\n",
    "\n",
    "# the standard module for array manipulation\n",
    "import numpy as np\n",
    "\n",
    "# the standard modules for high-quality plots\n",
    "import matplotlib as mp\n",
    "\n",
    "import matplotlib.pyplot as plt\n",
    "\n",
    "# a function to read and save results\n",
    "import joblib as jb\n",
    "\n",
    "import pgammafit as pg\n",
    "\n",
    "import ROOT\n",
    "\n",
    "%matplotlib inline"
   ]
  },
  {
   "cell_type": "code",
   "execution_count": 2,
   "metadata": {},
   "outputs": [],
   "source": [
    "# update fonts\n",
    "FONTSIZE = 12\n",
    "font = {'family' : 'serif',\n",
    "        'weight' : 'normal',\n",
    "        'size'   : FONTSIZE}\n",
    "mp.rc('font', **font)\n",
    "\n",
    "\n",
    "# set a seed to ensure reproducibility\n",
    "seed = 128\n",
    "rnd  = np.random.RandomState(seed)\n",
    "\n",
    "mp.rc('text', usetex=False)"
   ]
  },
  {
   "cell_type": "markdown",
   "metadata": {},
   "source": [
    "### Load data"
   ]
  },
  {
   "cell_type": "code",
   "execution_count": 3,
   "metadata": {},
   "outputs": [
    {
     "name": "stdout",
     "output_type": "stream",
     "text": [
      "len(dat):      229\n",
      "len(sig):   236901\n",
      "len(bkg):   360715\n"
     ]
    },
    {
     "data": {
      "text/html": [
       "<div>\n",
       "<style scoped>\n",
       "    .dataframe tbody tr th:only-of-type {\n",
       "        vertical-align: middle;\n",
       "    }\n",
       "\n",
       "    .dataframe tbody tr th {\n",
       "        vertical-align: top;\n",
       "    }\n",
       "\n",
       "    .dataframe thead th {\n",
       "        text-align: right;\n",
       "    }\n",
       "</style>\n",
       "<table border=\"1\" class=\"dataframe\">\n",
       "  <thead>\n",
       "    <tr style=\"text-align: right;\">\n",
       "      <th></th>\n",
       "      <th>weight</th>\n",
       "      <th>mass4l</th>\n",
       "      <th>detajj</th>\n",
       "      <th>massjj</th>\n",
       "    </tr>\n",
       "  </thead>\n",
       "  <tbody>\n",
       "    <tr>\n",
       "      <th>0</th>\n",
       "      <td>0.000094</td>\n",
       "      <td>432.846217</td>\n",
       "      <td>3.398400</td>\n",
       "      <td>115.077466</td>\n",
       "    </tr>\n",
       "    <tr>\n",
       "      <th>1</th>\n",
       "      <td>0.000107</td>\n",
       "      <td>315.570996</td>\n",
       "      <td>1.782559</td>\n",
       "      <td>75.371308</td>\n",
       "    </tr>\n",
       "    <tr>\n",
       "      <th>2</th>\n",
       "      <td>0.000039</td>\n",
       "      <td>237.242107</td>\n",
       "      <td>0.341712</td>\n",
       "      <td>75.902373</td>\n",
       "    </tr>\n",
       "    <tr>\n",
       "      <th>3</th>\n",
       "      <td>-0.000199</td>\n",
       "      <td>422.388903</td>\n",
       "      <td>2.089638</td>\n",
       "      <td>67.524406</td>\n",
       "    </tr>\n",
       "    <tr>\n",
       "      <th>4</th>\n",
       "      <td>0.000018</td>\n",
       "      <td>91.332645</td>\n",
       "      <td>1.498294</td>\n",
       "      <td>76.053619</td>\n",
       "    </tr>\n",
       "  </tbody>\n",
       "</table>\n",
       "</div>"
      ],
      "text/plain": [
       "     weight      mass4l    detajj      massjj\n",
       "0  0.000094  432.846217  3.398400  115.077466\n",
       "1  0.000107  315.570996  1.782559   75.371308\n",
       "2  0.000039  237.242107  0.341712   75.902373\n",
       "3 -0.000199  422.388903  2.089638   67.524406\n",
       "4  0.000018   91.332645  1.498294   76.053619"
      ]
     },
     "execution_count": 3,
     "metadata": {},
     "output_type": "execute_result"
    }
   ],
   "source": [
    "dat = pd.read_csv('../datasets/atlas_opendata_4l_dat.csv.gz')\n",
    "print(f'len(dat): {len(dat):8d}')\n",
    "\n",
    "ggf = pd.read_csv('../datasets/atlas_opendata_4l_ggf.csv.gz')\n",
    "vbf = pd.read_csv('../datasets/atlas_opendata_4l_vbf.csv.gz')\n",
    "# concatenate vbf and ggf then randomly shuffle all (frac=1) rows\n",
    "sig = pd.concat([vbf, ggf]).sample(frac=1)\n",
    "print(f'len(sig): {len(sig):8d}')\n",
    "\n",
    "bkg = pd.read_csv('../datasets/atlas_opendata_4l_bkg.csv.gz')\n",
    "print(f'len(bkg): {len(bkg):8d}')\n",
    "\n",
    "bkg[:5]"
   ]
  },
  {
   "cell_type": "code",
   "execution_count": 4,
   "metadata": {},
   "outputs": [
    {
     "name": "stdout",
     "output_type": "stream",
     "text": [
      "signal:   0.56 fb, background:  12.81 fb\n"
     ]
    }
   ],
   "source": [
    "print(f'signal: {sig.weight.sum():6.2f} fb, background: {bkg.weight.sum():6.2f} fb')"
   ]
  },
  {
   "cell_type": "code",
   "execution_count": 5,
   "metadata": {},
   "outputs": [],
   "source": [
    "def get_hist(data, field, xbins=50, xmin=70, xmax=170):\n",
    "    \n",
    "    y1, edges = np.histogram(data[field], \n",
    "                             weights=data.weight,\n",
    "                             bins=xbins, \n",
    "                             range=(xmin, xmax))\n",
    "    \n",
    "    y2, _     = np.histogram(data[field], \n",
    "                             weights=data.weight**2,\n",
    "                             bins=xbins, \n",
    "                             range=(xmin, xmax))\n",
    "    y2 = np.sqrt(y2)\n",
    "    return edges, y1, y2\n",
    "\n",
    "def to_vector(a):\n",
    "    v = ROOT.vector(\"double\")(len(a))\n",
    "    for i in range(len(a)):\n",
    "        v[i] = a[i]\n",
    "    return v\n",
    "\n",
    "def to_numpy(v):\n",
    "    a = np.zeros(len(v))\n",
    "    for i in range(len(v)):\n",
    "        a[i] = v[i]\n",
    "    return v"
   ]
  },
  {
   "cell_type": "code",
   "execution_count": 6,
   "metadata": {},
   "outputs": [
    {
     "name": "stdout",
     "output_type": "stream",
     "text": [
      "mass4l_data.png\n"
     ]
    },
    {
     "data": {
      "image/png": "[encoded data removed]",
      "text/plain": [
       "<Figure size 600x400 with 1 Axes>"
      ]
     },
     "metadata": {},
     "output_type": "display_data"
    }
   ],
   "source": [
    "def plot_data(x, D, dD,   \n",
    "               filename='mass4l_data.png', \n",
    "               color='steelblue',\n",
    "               ymin=0, ymax=16):\n",
    "    \n",
    "    # set size of figure\n",
    "    fig  = plt.figure(figsize=(6, 4))\n",
    "\n",
    "    # one plot per figure\n",
    "    nrows, ncols, index = 1, 1, 1\n",
    "    ax   = fig.add_subplot(nrows, ncols, index)\n",
    "    \n",
    "    h    = x[1]-x[0]\n",
    "    xmin = x[0]\n",
    "    xmax = x[-1]\n",
    "    xbins= len(D)\n",
    "    ax.set_xlim(xmin, xmax)\n",
    "    ax.set_ylim(ymin, ymax)\n",
    "    ax.set_xlabel('$m_{4\\ell}$ (GeV)', fontsize=12)\n",
    "    ax.set_ylabel(f'counts / {int(h):d} GeV', fontsize=12)\n",
    "\n",
    "    # get bin centers\n",
    "    x = (x[1:] + x[:-1])/2\n",
    "\n",
    "    # plot data\n",
    "    ax.errorbar(x, D, dD, \n",
    "                    fmt='o',  # no lines connecting points\n",
    "                    color='black',\n",
    "                    markerfacecolor='black', \n",
    "                    markeredgecolor='black', \n",
    "                    markersize=4,\n",
    "                    markeredgewidth=1)\n",
    "    \n",
    "    fig.tight_layout()\n",
    "    print(filename)\n",
    "    plt.savefig(filename)\n",
    "    plt.show()\n",
    "\n",
    "x, D, dD = get_hist(dat, 'mass4l')\n",
    "plot_data(x, D, dD)  "
   ]
  },
  {
   "cell_type": "code",
   "execution_count": 7,
   "metadata": {},
   "outputs": [
    {
     "name": "stdout",
     "output_type": "stream",
     "text": [
      "\n",
      "source      \t   estimated scales\n",
      "bkg        \t      25.9 +/-3.1        1/fb\n",
      "higgs      \t      26.7 +/-8.5        1/fb\n",
      "\n",
      "total: S =   15.0, B =   77.6, S+B =   92.6\n",
      "total observed count:                  93\n"
     ]
    }
   ],
   "source": [
    "_, b, dB = get_hist(bkg, 'mass4l')\n",
    "_, s, dS = get_hist(sig, 'mass4l')\n",
    "\n",
    "# construct a PoissonGamma object \n",
    "pgfit = pg.PoissonGammaFit(to_vector(D), verbosity=-1)\n",
    "\n",
    "scale = False\n",
    "sources = []\n",
    "\n",
    "# add sources (that is, channels)\n",
    "pgfit.add(to_vector(b), to_vector(dB), scale); sources.append('bkg') \n",
    "pgfit.add(to_vector(s), to_vector(dS), scale); sources.append('higgs')\n",
    "\n",
    "# find mode of posterior density\n",
    "# make some reasonable guesses\n",
    "total = np.sum(D)\n",
    "guess = ROOT.vector(\"double\")(2, 5)\n",
    "pgfit.execute(guess)\n",
    "\n",
    "if not pgfit.good():\n",
    "    raise ValueError('''\n",
    "        ** :( thou lump of foul deformity - the fit failed!\n",
    "        ** quit or try better starting guesses for\n",
    "        ** the source counts in the signal region and/or do some\n",
    "        ** rebinning, maybe?\n",
    "        ''')\n",
    "\n",
    "# get mode and width of posterior density, which, \n",
    "# because PoissonGammaFit uses a flat prior for the yields, \n",
    "# are the same as those of the Poisson/gamma marginal density. \n",
    "\n",
    "mode  = pgfit.mode()\n",
    "error = pgfit.width()\n",
    "\n",
    "# scale counts based on result of fit.\n",
    "B = mode[0] * b\n",
    "S = mode[1] * s\n",
    "\n",
    "# Print results\n",
    "print('')  \n",
    "print(\"%-10s  \\t   %s\" %  \\\n",
    "        ('source', \"estimated scales\"))\n",
    "for index, source in enumerate(sources):\n",
    "    print(\"%-10s \\t%10.1f +/-%-10.1f 1/fb\" % \\\n",
    "            (source, mode[index], error[index]))\n",
    "print()\n",
    "\n",
    "Stot = S.sum()\n",
    "Btot = B.sum()\n",
    "print('total: S = %6.1f, B = %6.1f, S+B = %6.1f' % \\\n",
    "      (Stot, Btot, Stot+Btot))\n",
    "print(\"total observed count:               %5d\" % total) "
   ]
  },
  {
   "cell_type": "code",
   "execution_count": 8,
   "metadata": {},
   "outputs": [],
   "source": [
    "def plot_fit(x, D, dD, B, S, results,   \n",
    "               filename='mass4l_fit.png', \n",
    "               color='steelblue',\n",
    "               ymin=0, ymax=16):\n",
    "    \n",
    "    # set size of figure\n",
    "    fig  = plt.figure(figsize=(6, 4)) \n",
    "    ax   = fig.add_subplot(1, 1, 1)\n",
    "    \n",
    "    h    = x[1]-x[0]\n",
    "    xmin = x[0]\n",
    "    xmax = x[-1]\n",
    "    xbins= len(D)\n",
    "    ax.set_xlim(xmin, xmax)\n",
    "    ax.set_ylim(ymin, ymax)\n",
    "    ax.set_xlabel('$m_{4\\ell}$ (GeV)', fontsize=12)\n",
    "    ax.set_ylabel(f'counts / {int(h):d} GeV', fontsize=12)\n",
    "    \n",
    "    x = (x[1:] + x[:-1])/2\n",
    "    ax.errorbar(x, D, dD, \n",
    "                    fmt='o',  # no lines connecting points\n",
    "                    color='black',\n",
    "                    markerfacecolor='black', \n",
    "                    markeredgecolor='black', \n",
    "                    markersize=4,\n",
    "                    markeredgewidth=1)\n",
    "    \n",
    "    X = np.array([list(x), list(x)]).T\n",
    "    W = np.array([list(B), list(S)]).T\n",
    "    \n",
    "    ax.hist(X, weights=W,\n",
    "                bins=xbins, \n",
    "                color=((0.75, 0.02, 0.6), 'steelblue'),\n",
    "                histtype='stepfilled',\n",
    "                alpha=0.5,\n",
    "                range=(xmin, xmax), stacked=True)\n",
    "    \n",
    "    Dsum = D.sum()\n",
    "    Bsum = B.sum(); Berr = Bsum * error[0]/mode[0]\n",
    "    Ssum = S.sum(); Serr = Ssum * error[1]/mode[1]\n",
    "    Tsum = Bsum + Ssum\n",
    "    Terr = np.sqrt(Berr**2+Serr**2)\n",
    "    \n",
    "    xpos = xmin + 0.55*(xmax-xmin)\n",
    "    ystep= (ymax-ymin)/12\n",
    "    ypos = ymax-ystep\n",
    "\n",
    "    ax.text(xpos-10, ypos, 'Fit results'); ypos -= ystep\n",
    "    \n",
    "    ax.text(xpos, ypos, 'bkg  (count): %6.1f $\\pm %-6.1f$' % \\\n",
    "            (Bsum, Berr), \n",
    "            color=(0.75, 0.02, 0.6)); ypos -= ystep\n",
    "    \n",
    "    ax.text(xpos, ypos, 'sig  (count): %6.1f $\\pm %-6.1f$' % \\\n",
    "            (Ssum, Serr), \n",
    "            color='blue'); ypos -= ystep\n",
    "    \n",
    "    ax.text(xpos, ypos, 'total(count): %6.1f $\\pm %-6.1f$' % \\\n",
    "            (Tsum, Terr), \n",
    "            color='black'); ypos -= ystep\n",
    "    \n",
    "    ax.text(xpos, ypos, 'data (count): %6d' % Dsum, \n",
    "            color='black')\n",
    "    \n",
    "    fig.tight_layout()\n",
    "    print(filename)\n",
    "    plt.savefig(filename)\n",
    "    plt.show()"
   ]
  },
  {
   "cell_type": "code",
   "execution_count": 9,
   "metadata": {},
   "outputs": [
    {
     "name": "stdout",
     "output_type": "stream",
     "text": [
      "mass4l_fit.png\n"
     ]
    },
    {
     "data": {
      "image/png": "[encoded data removed]",
      "text/plain": [
       "<Figure size 600x400 with 1 Axes>"
      ]
     },
     "metadata": {},
     "output_type": "display_data"
    }
   ],
   "source": [
    "plot_fit(x, D, dD, B, S, [mode, error])  "
   ]
  },
  {
   "cell_type": "code",
   "execution_count": null,
   "metadata": {},
   "outputs": [],
   "source": []
  }
 ],
 "metadata": {
  "kernelspec": {
   "display_name": "Python 3 (ipykernel)",
   "language": "python",
   "name": "python3"
  },
  "language_info": {
   "codemirror_mode": {
    "name": "ipython",
    "version": 3
   },
   "file_extension": ".py",
   "mimetype": "text/x-python",
   "name": "python",
   "nbconvert_exporter": "python",
   "pygments_lexer": "ipython3",
   "version": "3.11.8"
  }
 },
 "nbformat": 4,
 "nbformat_minor": 4
}
