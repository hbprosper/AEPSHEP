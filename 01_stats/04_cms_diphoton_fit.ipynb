{
 "cells": [
  {
   "cell_type": "markdown",
   "metadata": {
    "id": "40Yb47zJQglm"
   },
   "source": [
    "# Tutorial: Fitting the CMS $pp \\rightarrow \\gamma\\gamma$ Higgs Discovery Data\n",
    "> 12 - 25 June 2024, Asia-Europe-Pacific School of HEP (AEPSHEP) 2024, Nakhon Pathom, Thailand<br>\n",
    "> Harrison B. Prosper\n",
    "\n",
    "### Statistical model\n",
    "\n",
    "We shall use $\\texttt{RooFit}$ to fit the following 4-parameter statistical model\n",
    "\\begin{align}\n",
    "    p(D | \\theta) & = \\exp(-(b + s)) \\prod_{i=1}^N [(1 - \\epsilon) \\, f_b(x_i, a_1, a_2) + \\epsilon \\, f_s(x_i, m_{h}, \\sigma_h)],  \\text{ where}\\\\\n",
    "    \\epsilon & = \\frac{s} {b + s}, \\\\\n",
    "    D & = \\{ x_i \\}, \\\\\n",
    "    \\theta & = a_1, a_2, m_h, \\sigma_h, \\\\\n",
    "    f_b(x, a_1, a_2) & = \\exp(-(a_1 \\, z + a_2 \\, z^2)) / A(a_1, a_2), (z = x / 100) \\text{ and}\\\\\n",
    "    f_s(x, m_h, \\sigma_h) & = \\mathcal{N}(x, m_{h}, \\sigma_{h}) ,\n",
    "\\end{align}\n",
    "to the CMS 7 and 8 TeV di-photon mass data, which was instrumental in the discovery of the Higgs boson at CERN in 2012."
   ]
  },
  {
   "cell_type": "code",
   "execution_count": 1,
   "metadata": {
    "id": "FA1Y5VCv20XZ"
   },
   "outputs": [
    {
     "name": "stdout",
     "output_type": "stream",
     "text": [
      "Welcome to JupyROOT 6.30/02\n"
     ]
    }
   ],
   "source": [
    "import os, sys\n",
    "\n",
    "# the standard module for tabular data\n",
    "import pandas as pd\n",
    "\n",
    "# the standard module for array manipulation\n",
    "import numpy as np\n",
    "\n",
    "# the standard modules for high-quality plots\n",
    "import matplotlib as mp\n",
    "import matplotlib.pyplot as plt\n",
    "\n",
    "from ROOT import RooMsgService, RooWorkspace, RooFit, RooDataSet, RooCategory, RooArgList,\\\n",
    "TStopwatch, TCanvas, kRed\n",
    "\n",
    "%matplotlib inline"
   ]
  },
  {
   "cell_type": "code",
   "execution_count": 2,
   "metadata": {},
   "outputs": [],
   "source": [
    "# update fonts\n",
    "FONTSIZE = 10\n",
    "font = {'family' : 'serif',\n",
    "        'weight' : 'normal',\n",
    "        'size'   : FONTSIZE}\n",
    "mp.rc('font', **font)\n",
    "\n",
    "# set usetex = False if LaTex is not \n",
    "# available on your system or if the \n",
    "# rendering is too slow\n",
    "mp.rc('text', usetex=True)\n",
    "\n",
    "# set a seed to ensure reproducibility\n",
    "seed = 42\n",
    "rnd  = np.random.RandomState(seed)"
   ]
  },
  {
   "cell_type": "markdown",
   "metadata": {},
   "source": [
    "### Constants"
   ]
  },
  {
   "cell_type": "code",
   "execution_count": 3,
   "metadata": {},
   "outputs": [],
   "source": [
    "MASSMIN  = 110.0                # minimum di-photon mass (GeV)\n",
    "MASSMAX  = 160.0                # maximum di-photon mass (GeV)\n",
    "MASSRANGE= MASSMAX-MASSMIN\n",
    "MASSSCALE= 100.0                # scale by which to divide all masses\n",
    "MASSBINS =  50"
   ]
  },
  {
   "cell_type": "markdown",
   "metadata": {},
   "source": [
    "### Create workspace\n",
    "We do this primarily to take advantage of the workspace's $\\texttt{factory}$ method."
   ]
  },
  {
   "cell_type": "code",
   "execution_count": 4,
   "metadata": {},
   "outputs": [],
   "source": [
    "# suppress all messages except those that matter\n",
    "RooMsgService.instance().setGlobalKillBelow(RooFit.FATAL)\n",
    "\n",
    "# create empty workspace\n",
    "wspace = RooWorkspace('higgs')"
   ]
  },
  {
   "cell_type": "markdown",
   "metadata": {},
   "source": [
    "### Load $m_{\\gamma\\gamma}$ data"
   ]
  },
  {
   "cell_type": "code",
   "execution_count": 5,
   "metadata": {},
   "outputs": [
    {
     "name": "stdout",
     "output_type": "stream",
     "text": [
      "\n",
      "RooWorkspace(higgs) higgs contents\n",
      "\n",
      "variables\n",
      "---------\n",
      "(blindState,pcat,x)\n",
      "\n",
      "datasets\n",
      "--------\n",
      "RooDataSet::dataset(pcat,x,blindState)\n",
      "\n",
      "RooDataSet::dataset[pcat,x,blindState] = 30772 entries\n"
     ]
    }
   ],
   "source": [
    "# create photon categories to be read (read all categories)\n",
    "photonCat = RooCategory(\"pcat\", \"photon categories\")\n",
    "photonCat.defineType('photon0', 0)\n",
    "photonCat.defineType('photon1', 1)\n",
    "photonCat.defineType('photon2', 2)\n",
    "photonCat.defineType('photon3', 3)\n",
    "photonCat.defineType('photon4', 4)\n",
    "photonCat.defineType('photon5', 5)\n",
    "\n",
    "# import photon categories into workspace\n",
    "# Note: the name of this method begins with an upper\n",
    "# case to avoid a classh with the keyword \"import\"\n",
    "wspace.Import(photonCat)\n",
    "\n",
    "# create di-photon mass variable\n",
    "wspace.factory('x[%f, %f]' % (MASSMIN, MASSMAX))\n",
    "x = wspace.var('x')\n",
    "x.SetTitle('m_{#gamma#gamma} (GeV)')\n",
    "\n",
    "# read 7 TeV di-photon data\n",
    "data = RooDataSet.read('../datasets/hgg7TeV.txt', RooArgList(photonCat, x))\n",
    "\n",
    "# read 8 TeV di-photon data and append to 7 TeV data\n",
    "data.append(RooDataSet.read('../datasets/hgg8TeV.txt', RooArgList(photonCat, x)))\n",
    "\n",
    "# import data into workspace\n",
    "wspace.Import(data)\n",
    "\n",
    "wspace.Print()\n",
    "data.Print()"
   ]
  },
  {
   "cell_type": "markdown",
   "metadata": {},
   "source": [
    "### Create variables appearing in probability densities"
   ]
  },
  {
   "cell_type": "code",
   "execution_count": 6,
   "metadata": {},
   "outputs": [
    {
     "name": "stdout",
     "output_type": "stream",
     "text": [
      "number of entries: 30772\n",
      "====================================================================================================\n",
      "\n",
      "RooWorkspace(higgs) higgs contents\n",
      "\n",
      "variables\n",
      "---------\n",
      "(a1,a2,b,blindState,mass,pcat,s,sigma,x)\n",
      "\n",
      "p.d.f.s\n",
      "-------\n",
      "RooExponential::bmodel[ x=Z c=1 ] = 0.00134116\n",
      "RooAddPdf::model[ b * bmodel + s * smodel ] = 0.00133682/1\n",
      "RooGaussian::smodel[ x=x mean=mass sigma=sigma ] = 1.07004e-07\n",
      "\n",
      "functions\n",
      "--------\n",
      "RooFormulaVar::Z[ actualVars=(x,a1,a2) formula=\"-(a1*(x/100)+a2*(x/100)**2)\" ] = -6.61422\n",
      "\n",
      "datasets\n",
      "--------\n",
      "RooDataSet::dataset(pcat,x,blindState)\n",
      "\n"
     ]
    }
   ],
   "source": [
    "ndata = data.numEntries()\n",
    "print(\"number of entries: %d\" % ndata)\n",
    "\n",
    "# create background parameters\n",
    "wspace.factory('b[%d, 0.0, %d]' % (ndata, 3*ndata))\n",
    "wspace.factory('a1[ 7.5, -50, 50]')\n",
    "wspace.factory('a2[-1.5, -50, 50]')\n",
    "\n",
    "# background model: exp( -(a1*(x/100) + a2*(x/100)**2))\n",
    "expr = 'expr::Z(\"-(a1*(x/100)+a2*(x/100)**2)\", x, a1, a2)'\n",
    "wspace.factory(expr)\n",
    "\n",
    "wspace.factory('Exponential::bmodel(Z, 1)')\n",
    "bmodel  = wspace.pdf('bmodel')\n",
    "\n",
    "# signal model\n",
    "wspace.factory('s[100, 0.0, 500.0]')\n",
    "wspace.factory('mass[120, %f, %f]' % (MASSMIN, MASSMAX))\n",
    "wspace.factory('sigma[1.0, 0.01, 10]')\n",
    "wspace.factory('Gaussian::smodel(x, mass, sigma)')\n",
    "\n",
    "# According to Wouter, the following produces a so-called extended pdf\n",
    "# by default\n",
    "# p(x|...) = exp(-(b+s)) * PROD p(x_i|...)\n",
    "wspace.factory('SUM::model(b*bmodel, s*smodel)')\n",
    "model  = wspace.pdf('model')\n",
    "\n",
    "print(\"=\"*100)\n",
    "wspace.Print()"
   ]
  },
  {
   "cell_type": "markdown",
   "metadata": {},
   "source": [
    "### Fit the model to the di-photon data"
   ]
  },
  {
   "cell_type": "code",
   "execution_count": 7,
   "metadata": {},
   "outputs": [
    {
     "name": "stdout",
     "output_type": "stream",
     "text": [
      "fit extended model to data\n",
      "================================================================================\n",
      "real time:      0.878 s\n",
      "================================================================================\n",
      "background:    30570.9 +\\-185.7 GeV\n",
      "signal:          200.9 +\\-63.3 \n",
      "mass:            124.8 +\\-0.3  GeV\n",
      "width:             0.9 +\\-0.3  GeV\n",
      "sig/esig:          3.2\n",
      "\n",
      "Minuit2Minimizer: Minimize with max-calls 3000 convergence for edm < 1 strategy 1\n",
      "Minuit2Minimizer : Valid minimum - status = 0\n",
      "FVAL  = -170119.649519430561\n",
      "Edm   = 0.00617067995160415321\n",
      "Nfcn  = 192\n",
      "a1\t  = 7.3721\t +/-  0.635221\t(limited)\n",
      "a2\t  = -1.54832\t +/-  0.240014\t(limited)\n",
      "b\t  = 30570.9\t +/-  184.953\t(limited)\n",
      "mass\t  = 124.774\t +/-  0.294463\t(limited)\n",
      "s\t  = 200.856\t +/-  61.4709\t(limited)\n",
      "sigma\t  = 0.850457\t +/-  0.270196\t(limited)\n"
     ]
    },
    {
     "name": "stderr",
     "output_type": "stream",
     "text": [
      "Info in <Minuit2>: MnSeedGenerator Computing seed using NumericalGradient calculator\n",
      "Info in <Minuit2>: MnSeedGenerator Initial state: FCN =      -170089.6907 Edm =       43.27137293 NCalls =     27\n",
      "Info in <Minuit2>: NegativeG2LineSearch Doing a NegativeG2LineSearch since one of the G2 component is negative\n",
      "Info in <Minuit2>: MnSeedGenerator Negative G2 found - new state: \n",
      "  Minimum value : -170099.1621\n",
      "  Edm           : 38.8562693\n",
      "  Internal parameters:\t[     0.1505682728   -0.03000450182    -0.3398369095    -0.4319430119    -0.6435011088    -0.9303042618]\t\n",
      "  Internal gradient  :\t[      7041.135486      18798.84491      144.8085526     -30.19418067     -4.801097242      7.310453473]\t\n",
      "  Internal covariance matrix:\n",
      "[[  1.4516842e-06              0              0              0              0              0]\n",
      " [              0   2.027555e-07              0              0              0              0]\n",
      " [              0              0  3.2683556e-05              0              0              0]\n",
      " [              0              0              0  0.00091217446              0              0]\n",
      " [              0              0              0              0     0.18309126              0]\n",
      " [              0              0              0              0              0     0.11346065]]]\n",
      "Info in <Minuit2>: MnSeedGenerator Initial state  \n",
      "  Minimum value : -170099.1621\n",
      "  Edm           : 38.8562693\n",
      "  Internal parameters:\t[     0.1505682728   -0.03000450182    -0.3398369095    -0.4319430119    -0.6435011088    -0.9303042618]\t\n",
      "  Internal gradient  :\t[      7041.135486      18798.84491      144.8085526     -30.19418067     -4.801097242      7.310453473]\t\n",
      "  Internal covariance matrix:\n",
      "[[  1.4516842e-06              0              0              0              0              0]\n",
      " [              0   2.027555e-07              0              0              0              0]\n",
      " [              0              0  3.2683556e-05              0              0              0]\n",
      " [              0              0              0  0.00091217446              0              0]\n",
      " [              0              0              0              0     0.18309126              0]\n",
      " [              0              0              0              0              0     0.11346065]]]\n",
      "Info in <Minuit2>: VariableMetricBuilder Start iterating until Edm is < 0.001 with call limit = 3000\n",
      "Info in <Minuit2>: VariableMetricBuilder    0 - FCN =      -170099.1621 Edm =        38.8562693 NCalls =     52\n",
      "Info in <Minuit2>: VariableMetricBuilder    1 - FCN =      -170117.2391 Edm =       3.765669069 NCalls =     72\n",
      "Info in <Minuit2>: VariableMetricBuilder    2 - FCN =      -170119.3806 Edm =       1.897308154 NCalls =     87\n",
      "Info in <Minuit2>: VariableMetricBuilder    3 - FCN =      -170119.5486 Edm =      0.1956902075 NCalls =    102\n",
      "Info in <Minuit2>: VariableMetricBuilder    4 - FCN =       -170119.626 Edm =     0.03373075997 NCalls =    116\n",
      "Info in <Minuit2>: VariableMetricBuilder    5 - FCN =      -170119.6474 Edm =    0.003066912064 NCalls =    130\n",
      "Info in <Minuit2>: VariableMetricBuilder    6 - FCN =      -170119.6495 Edm =   4.575385503e-05 NCalls =    144\n",
      "Info in <Minuit2>: VariableMetricBuilder After Hessian\n",
      "Info in <Minuit2>: VariableMetricBuilder    7 - FCN =      -170119.6495 Edm =    0.006170679952 NCalls =    192\n",
      "Warning in <Minuit2>: VariableMetricBuilder Reached machine accuracy limit; Edm 0.00617068 is smaller than machine limit 0.0101399 while 0.001 was requested\n",
      "Info in <Minuit2>: Minuit2Minimizer::Hesse Using max-calls 3000\n",
      "Info in <Minuit2>: Minuit2Minimizer::Hesse Hesse is valid - matrix is accurate\n"
     ]
    }
   ],
   "source": [
    "ncores = 2\n",
    "print(\"fit extended model to data\")\n",
    "print(\"=\"*80)\n",
    "\n",
    "swatch = TStopwatch()\n",
    "swatch.Start()\n",
    "model.fitTo(data)\n",
    "print(\"real time: %10.3f s\" % swatch.RealTime())\n",
    "# --------------------------------------------------------------\n",
    "vbkg  = wspace.var('b')\n",
    "vsig  = wspace.var('s')\n",
    "vmass = wspace.var('mass')\n",
    "vwidth=wspace.var('sigma')\n",
    "va1   = wspace.var('a1')\n",
    "va2   = wspace.var('a2')\n",
    "\n",
    "# get results and compute a simple measure of signal significance\n",
    "bkg   = vbkg.getVal()\n",
    "ebkg  = vbkg.getError()\n",
    "sig   = vsig.getVal()\n",
    "esig  = vsig.getError()\n",
    "mass  = vmass.getVal()\n",
    "emass = vmass.getError()\n",
    "width = vwidth.getVal()\n",
    "ewidth= vwidth.getError()\n",
    "zvalue= sig / esig\n",
    "\n",
    "a1 = va1.getVal()\n",
    "a2 = va2.getVal()\n",
    "results = [mass, emass, width, ewidth, sig, esig, bkg, ebkg, a1, a2]\n",
    "\n",
    "print(\"=\"*80)\n",
    "print(\"background: %10.1f +\\-%-5.1f GeV\" % (bkg, ebkg))\n",
    "print(\"signal:     %10.1f +\\-%-5.1f\" % (sig, esig))\n",
    "print(\"mass:       %10.1f +\\-%-4.1f GeV\" % (mass, emass))\n",
    "print(\"width:      %10.1f +\\-%-4.1f GeV\" % (width, ewidth))\n",
    "print(\"sig/esig:   %10.1f\" % zvalue)\n",
    "print()"
   ]
  },
  {
   "cell_type": "markdown",
   "metadata": {},
   "source": [
    "### Make a plot of the results using $\\texttt{matplotlib}$\n",
    "Compute normalization factor for background density using $\\texttt{sympy}$."
   ]
  },
  {
   "cell_type": "code",
   "execution_count": 8,
   "metadata": {},
   "outputs": [],
   "source": [
    "import sympy as sm\n",
    "sm.init_printing() # activate pretty-printing of equations"
   ]
  },
  {
   "cell_type": "markdown",
   "metadata": {},
   "source": [
    "Define symbols of background model"
   ]
  },
  {
   "cell_type": "code",
   "execution_count": 9,
   "metadata": {},
   "outputs": [
    {
     "data": {
      "image/png": "[encoded data removed]",
      "text/latex": [
       "$\\displaystyle \\left( a_{1}, \\  a_{2}, \\  z, \\  z_{0}, \\  z_{1}\\right)$"
      ],
      "text/plain": [
       "(a₁, a₂, z, z₀, z₁)"
      ]
     },
     "execution_count": 9,
     "metadata": {},
     "output_type": "execute_result"
    }
   ],
   "source": [
    "a1, z, z0, z1 = sm.symbols('a_1,z,z0,z1', real=True, positive=True)\n",
    "a2 = sm.symbols('a_2', real=True, positive=False)\n",
    "a1,a2,z,z0,z1"
   ]
  },
  {
   "cell_type": "markdown",
   "metadata": {},
   "source": [
    "Integrate\n",
    "\\begin{align}\n",
    "    f_b(z, \\theta_b) & = \\exp(-(a_1 \\, z + a_2 \\, z^2)),\\quad z \\equiv x / 100, \\quad \\theta_b \\equiv a_1, a_2,\\\\\n",
    "    A(\\theta_b) & = \\int_{z_0}^{z_1} f_b(z, \\theta_b) \\, dz .\n",
    "\\end{align}"
   ]
  },
  {
   "cell_type": "code",
   "execution_count": 10,
   "metadata": {},
   "outputs": [
    {
     "data": {
      "image/png": "[encoded data removed]",
      "text/latex": [
       "$\\displaystyle \\left( e^{- a_{1} z - a_{2} z^{2}}, \\  \\frac{\\sqrt{\\pi} \\left(\\operatorname{erfi}{\\left(\\frac{a_{1} + 2 a_{2} z_{0}}{2 \\sqrt{- a_{2}}} \\right)} - \\operatorname{erfi}{\\left(\\frac{a_{1} + 2 a_{2} z_{1}}{2 \\sqrt{- a_{2}}} \\right)}\\right) e^{\\frac{a_{1}^{2}}{4 a_{2}}}}{2 \\sqrt{- a_{2}}}\\right)$"
      ],
      "text/plain": [
       "⎛                                                                2 ⎞\n",
       "⎜                                                              a₁  ⎟\n",
       "⎜                                                              ────⎟\n",
       "⎜                   ⎛    ⎛a₁ + 2⋅a₂⋅z₀⎞       ⎛a₁ + 2⋅a₂⋅z₁⎞⎞  4⋅a₂⎟\n",
       "⎜                √π⋅⎜erfi⎜────────────⎟ - erfi⎜────────────⎟⎟⋅ℯ    ⎟\n",
       "⎜             2     ⎜    ⎜     _____  ⎟       ⎜     _____  ⎟⎟      ⎟\n",
       "⎜ -a₁⋅z - a₂⋅z      ⎝    ⎝ 2⋅╲╱ -a₂   ⎠       ⎝ 2⋅╲╱ -a₂   ⎠⎠      ⎟\n",
       "⎜ℯ             , ──────────────────────────────────────────────────⎟\n",
       "⎜                                        _____                     ⎟\n",
       "⎝                                    2⋅╲╱ -a₂                      ⎠"
      ]
     },
     "execution_count": 10,
     "metadata": {},
     "output_type": "execute_result"
    }
   ],
   "source": [
    "f = sm.exp(-(a1*z + a2*z**2))\n",
    "A = sm.integrate(f, (z, z0, z1)).simplify()\n",
    "f, A"
   ]
  },
  {
   "cell_type": "code",
   "execution_count": 11,
   "metadata": {},
   "outputs": [
    {
     "data": {
      "image/png": "[encoded data removed]",
      "text/plain": [
       "<Figure size 600x400 with 1 Axes>"
      ]
     },
     "metadata": {},
     "output_type": "display_data"
    }
   ],
   "source": [
    "def plot_fit_results(X, results, symb,\n",
    "                     xbins=MASSBINS, \n",
    "                     xmin=MASSMIN,\n",
    "                     xmax=MASSMAX,\n",
    "                     xscale=MASSSCALE,\n",
    "                     ymin=0.0, \n",
    "                     ymax=1400, \n",
    "                     ftsize=14,\n",
    "                     filename='hgg_fit.png'):\n",
    "\n",
    "    y, a1, a2, z, z0, z1 = symb\n",
    "\n",
    "    mass, emass, width, ewidth, sig, esig, bkg, ebkg, A1, A2 = results\n",
    "\n",
    "    # normalized background density\n",
    "    \n",
    "    # evaluate the normalization factor for the background density\n",
    "    norm_b = y.evalf(subs={a1:A1, a2:A2, z0:xmin/xscale, z1:xmax/xscale})\n",
    "\n",
    "    def fb(x):\n",
    "        z = x / xscale\n",
    "        f = np.exp(-(A1*z + A2*z**2))/norm_b\n",
    "        return f\n",
    "\n",
    "    # normalized signal density\n",
    "    norm_s = width * np.sqrt(2*np.pi) \n",
    "    \n",
    "    def fs(x):\n",
    "        f = np.exp(-((x - mass)/width)**2/2)/norm_s\n",
    "        return f\n",
    "\n",
    "    mggbins = 501\n",
    "    mgg = np.linspace(xmin, xmax, mggbins)\n",
    "    mgg = (mgg[1:]+mgg[:-1])/2 # get bin centers\n",
    "    dm  = (xmax-xmin)/xbins\n",
    "    s = sig * fs(mgg) * dm\n",
    "    b = bkg * fb(mgg) * dm / xscale\n",
    "    sb = s + b \n",
    "\n",
    "    # create an empty figure\n",
    "    fig = plt.figure(figsize=(6, 4))\n",
    "    \n",
    "    # add a subplot to it\n",
    "    nrows, ncols, index = 1,1,1\n",
    "    ax  = fig.add_subplot(nrows, ncols, index)\n",
    "    \n",
    "    ticks = np.linspace(xmin, xmax, 11)\n",
    "    \n",
    "    ax.set_xlim(xmin, xmax)\n",
    "    ax.set_xticks(ticks)\n",
    "    ax.set_xlabel(r'$m_{\\gamma\\gamma}$ (GeV)', fontsize=ftsize)\n",
    "\n",
    "    ax.set_ylim(ymin, ymax)\n",
    "    #ax.set_yticks(ticks)\n",
    "    ax.set_ylabel(r'counts / 2 GeV', fontsize=ftsize)\n",
    "\n",
    "    c, m = np.histogram(X, bins=xbins, range=(xmin, xmax))\n",
    "    m  = (m[1:]+m[:-1])/2 # get bin centers\n",
    "    dc = np.sqrt(c)\n",
    "    \n",
    "    ax.scatter(m, c, s=20, color='black')\n",
    "    ax.errorbar(m, c, yerr=dc, linestyle='')\n",
    "    ax.plot(mgg, sb, color='red')\n",
    "    ax.plot(mgg, b, color='blue')\n",
    "\n",
    "    # annotate\n",
    "    xpos = xmin + 0.6*(xmax-xmin)\n",
    "    ystep= (ymax-ymin)/12\n",
    "    ypos = ymax - ystep\n",
    "    ax.text(xpos, ypos, f'$m_H$: {mass:6.1f} $\\pm${emass:6.1f} GeV', fontsize=14); ypos -= ystep\n",
    "    ax.text(xpos, ypos, f'$\\sigma_H$: {width:6.2f} $\\pm${ewidth:6.2f} GeV', fontsize=14); ypos -= ystep\n",
    "    ax.text(xpos, ypos, f'$s$: {sig:8.0f} $\\pm${esig:8.0f} events', fontsize=14); ypos -= ystep\n",
    "    ax.text(xpos, ypos, f'$b$: {bkg:8.0f} $\\pm${ebkg:8.0f} events', fontsize=14)\n",
    "    #ax.grid(True, which=\"both\", linestyle='-')\n",
    "    \n",
    "    fig.tight_layout()\n",
    "    plt.savefig(filename)\n",
    "    plt.show()\n",
    "\n",
    "# ------------------------------------------------------\n",
    "mgg  = data.to_numpy()['x']     # di-photon masses\n",
    "symb = (A, a1, a2, z, z0, z1)   # sympy symbols\n",
    "plot_fit_results(mgg, results, symb)"
   ]
  },
  {
   "cell_type": "code",
   "execution_count": null,
   "metadata": {},
   "outputs": [],
   "source": []
  }
 ],
 "metadata": {
  "accelerator": "GPU",
  "colab": {
   "collapsed_sections": [],
   "name": "DRL_19_REINFORCE_Algorithm.ipynb",
   "provenance": []
  },
  "kernelspec": {
   "display_name": "Python 3 (ipykernel)",
   "language": "python",
   "name": "python3"
  },
  "language_info": {
   "codemirror_mode": {
    "name": "ipython",
    "version": 3
   },
   "file_extension": ".py",
   "mimetype": "text/x-python",
   "name": "python",
   "nbconvert_exporter": "python",
   "pygments_lexer": "ipython3",
   "version": "3.11.8"
  }
 },
 "nbformat": 4,
 "nbformat_minor": 4
}
