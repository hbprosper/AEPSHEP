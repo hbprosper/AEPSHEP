{
 "cells": [
  {
   "cell_type": "markdown",
   "metadata": {},
   "source": [
    "# Unweighting events\n",
    "$pp \\rightarrow  4\\ell + X$ events. \n",
    "\n",
    " >__Created__: March 2020, Harrison B. Prosper, Tallahassee, USA<Br>\n",
    " >__Updated__: October 2022, HBP<br>\n",
    "> **Updated**: Adapted for AEPSHEP 2024, Thailand\n",
    " > ATLAS Open Data\n",
    "\n",
    "Prepare data for hzz4l notebooks."
   ]
  },
  {
   "cell_type": "code",
   "execution_count": 1,
   "metadata": {},
   "outputs": [],
   "source": [
    "import os, sys\n",
    "\n",
    "# the standard module for tabular data\n",
    "import pandas as pd\n",
    "\n",
    "# the standard module for array manipulation\n",
    "import numpy as np\n",
    "\n",
    "# the standard modules for high-quality plots\n",
    "import matplotlib as mp\n",
    "import matplotlib.pyplot as plt\n",
    "%matplotlib inline\n",
    "\n",
    "\n",
    "# update fonts\n",
    "FONTSIZE = 14\n",
    "font = {'family' : 'serif',\n",
    "        'weight' : 'normal',\n",
    "        'size'   : FONTSIZE}\n",
    "mp.rc('font', **font)\n",
    "\n",
    "# set a seed to ensure reproducibility\n",
    "seed = 128\n",
    "rnd  = np.random.RandomState(seed)\n",
    "\n",
    "# set to False if you do not have a LaTex installation\n",
    "mp.rc('text', usetex=True)"
   ]
  },
  {
   "cell_type": "markdown",
   "metadata": {},
   "source": [
    "### Load weighted data"
   ]
  },
  {
   "cell_type": "code",
   "execution_count": 67,
   "metadata": {},
   "outputs": [
    {
     "data": {
      "text/html": [
       "<div>\n",
       "<style scoped>\n",
       "    .dataframe tbody tr th:only-of-type {\n",
       "        vertical-align: middle;\n",
       "    }\n",
       "\n",
       "    .dataframe tbody tr th {\n",
       "        vertical-align: top;\n",
       "    }\n",
       "\n",
       "    .dataframe thead th {\n",
       "        text-align: right;\n",
       "    }\n",
       "</style>\n",
       "<table border=\"1\" class=\"dataframe\">\n",
       "  <thead>\n",
       "    <tr style=\"text-align: right;\">\n",
       "      <th></th>\n",
       "      <th>weight</th>\n",
       "      <th>mass4l</th>\n",
       "      <th>detajj</th>\n",
       "      <th>massjj</th>\n",
       "      <th>target</th>\n",
       "    </tr>\n",
       "  </thead>\n",
       "  <tbody>\n",
       "    <tr>\n",
       "      <th>0</th>\n",
       "      <td>3.079892e-07</td>\n",
       "      <td>120.716200</td>\n",
       "      <td>0.072145</td>\n",
       "      <td>75.791751</td>\n",
       "      <td>1</td>\n",
       "    </tr>\n",
       "    <tr>\n",
       "      <th>1</th>\n",
       "      <td>8.116760e-07</td>\n",
       "      <td>118.369495</td>\n",
       "      <td>-1.000000</td>\n",
       "      <td>-1.000000</td>\n",
       "      <td>1</td>\n",
       "    </tr>\n",
       "    <tr>\n",
       "      <th>2</th>\n",
       "      <td>5.452208e-07</td>\n",
       "      <td>120.988837</td>\n",
       "      <td>0.111161</td>\n",
       "      <td>215.393826</td>\n",
       "      <td>1</td>\n",
       "    </tr>\n",
       "    <tr>\n",
       "      <th>3</th>\n",
       "      <td>4.036570e-07</td>\n",
       "      <td>124.299057</td>\n",
       "      <td>0.918324</td>\n",
       "      <td>32.148679</td>\n",
       "      <td>1</td>\n",
       "    </tr>\n",
       "    <tr>\n",
       "      <th>4</th>\n",
       "      <td>5.467027e-07</td>\n",
       "      <td>124.401753</td>\n",
       "      <td>3.442659</td>\n",
       "      <td>291.253348</td>\n",
       "      <td>1</td>\n",
       "    </tr>\n",
       "  </tbody>\n",
       "</table>\n",
       "</div>"
      ],
      "text/plain": [
       "         weight      mass4l    detajj      massjj  target\n",
       "0  3.079892e-07  120.716200  0.072145   75.791751       1\n",
       "1  8.116760e-07  118.369495 -1.000000   -1.000000       1\n",
       "2  5.452208e-07  120.988837  0.111161  215.393826       1\n",
       "3  4.036570e-07  124.299057  0.918324   32.148679       1\n",
       "4  5.467027e-07  124.401753  3.442659  291.253348       1"
      ]
     },
     "execution_count": 67,
     "metadata": {},
     "output_type": "execute_result"
    }
   ],
   "source": [
    "bkg = pd.read_csv('../datasets/atlas_opendata_4l_ggf.csv.gz')\n",
    "bkg['target'] = -1\n",
    "\n",
    "sig = pd.read_csv('../datasets/atlas_opendata_4l_vbf.csv.gz')\n",
    "sig['target'] =  1\n",
    "\n",
    "sig[:5]"
   ]
  },
  {
   "cell_type": "markdown",
   "metadata": {},
   "source": [
    "### Apply filters"
   ]
  },
  {
   "cell_type": "code",
   "execution_count": 68,
   "metadata": {},
   "outputs": [
    {
     "data": {
      "text/plain": [
       "(0.2225924314999958, 41503, 0.026004976382686697, 62931)"
      ]
     },
     "execution_count": 68,
     "metadata": {},
     "output_type": "execute_result"
    }
   ],
   "source": [
    "bkg = bkg[bkg.massjj >    0]\n",
    "bkg = bkg[bkg.mass4l >= 100]\n",
    "bkg = bkg[bkg.mass4l <= 135]\n",
    "\n",
    "sig = sig[sig.massjj >    0]\n",
    "sig = sig[sig.mass4l >= 100]\n",
    "sig = sig[sig.mass4l <= 135]\n",
    "\n",
    "bkg.weight.sum(), len(bkg), sig.weight.sum(), len(sig)"
   ]
  },
  {
   "cell_type": "markdown",
   "metadata": {},
   "source": [
    "### Compute effective counts"
   ]
  },
  {
   "cell_type": "code",
   "execution_count": 69,
   "metadata": {},
   "outputs": [],
   "source": [
    "def effective_count(df):\n",
    "    w = df.weight\n",
    "    w1sum = w.sum()\n",
    "    w2sum = (w**2).sum()\n",
    "    count = int(w1sum**2 / w2sum)\n",
    "    return count"
   ]
  },
  {
   "cell_type": "code",
   "execution_count": 70,
   "metadata": {},
   "outputs": [
    {
     "data": {
      "text/plain": [
       "(0.8596487000939691, 0.8579396481861086)"
      ]
     },
     "execution_count": 70,
     "metadata": {},
     "output_type": "execute_result"
    }
   ],
   "source": [
    "bkgeff = effective_count(bkg)\n",
    "sigeff = effective_count(sig)\n",
    "fb = bkgeff/len(bkg)\n",
    "fs = sigeff/len(sig)\n",
    "fb, fs"
   ]
  },
  {
   "cell_type": "markdown",
   "metadata": {},
   "source": [
    "### Split data before unweighting\n",
    "Since we are using a bootstrap method to unweight events, duplicate events can occur. Therefore, it is important to split the weighted events first before their unweighting so that the training, validation, and test sets are strictly disjoint."
   ]
  },
  {
   "cell_type": "code",
   "execution_count": 71,
   "metadata": {},
   "outputs": [],
   "source": [
    "def split_data(df):\n",
    "    N = len(df)\n",
    "    ntrain = int(0.80 * N)\n",
    "    nvalid = int(0.10 * N)\n",
    "    ntest  = N - ntrain - nvalid\n",
    "    print(ntrain, nvalid, ntest)\n",
    "    \n",
    "    train  = df[:ntrain].reset_index()\n",
    "    valid  = df[ntrain:ntrain+nvalid].reset_index()\n",
    "    test   = df[ntrain+nvalid:].reset_index()\n",
    "\n",
    "    return train, valid, test"
   ]
  },
  {
   "cell_type": "code",
   "execution_count": 72,
   "metadata": {},
   "outputs": [
    {
     "name": "stdout",
     "output_type": "stream",
     "text": [
      "50344 6293 6294\n",
      "33202 4150 4151\n"
     ]
    }
   ],
   "source": [
    "sig_train, sig_valid, sig_test = split_data(sig)\n",
    "bkg_train, bkg_valid, bkg_test = split_data(bkg)"
   ]
  },
  {
   "cell_type": "code",
   "execution_count": 73,
   "metadata": {},
   "outputs": [
    {
     "data": {
      "text/html": [
       "<div>\n",
       "<style scoped>\n",
       "    .dataframe tbody tr th:only-of-type {\n",
       "        vertical-align: middle;\n",
       "    }\n",
       "\n",
       "    .dataframe tbody tr th {\n",
       "        vertical-align: top;\n",
       "    }\n",
       "\n",
       "    .dataframe thead th {\n",
       "        text-align: right;\n",
       "    }\n",
       "</style>\n",
       "<table border=\"1\" class=\"dataframe\">\n",
       "  <thead>\n",
       "    <tr style=\"text-align: right;\">\n",
       "      <th></th>\n",
       "      <th>index</th>\n",
       "      <th>weight</th>\n",
       "      <th>mass4l</th>\n",
       "      <th>detajj</th>\n",
       "      <th>massjj</th>\n",
       "      <th>target</th>\n",
       "    </tr>\n",
       "  </thead>\n",
       "  <tbody>\n",
       "    <tr>\n",
       "      <th>0</th>\n",
       "      <td>0</td>\n",
       "      <td>3.079892e-07</td>\n",
       "      <td>120.716200</td>\n",
       "      <td>0.072145</td>\n",
       "      <td>75.791751</td>\n",
       "      <td>1</td>\n",
       "    </tr>\n",
       "    <tr>\n",
       "      <th>1</th>\n",
       "      <td>2</td>\n",
       "      <td>5.452208e-07</td>\n",
       "      <td>120.988837</td>\n",
       "      <td>0.111161</td>\n",
       "      <td>215.393826</td>\n",
       "      <td>1</td>\n",
       "    </tr>\n",
       "    <tr>\n",
       "      <th>2</th>\n",
       "      <td>3</td>\n",
       "      <td>4.036570e-07</td>\n",
       "      <td>124.299057</td>\n",
       "      <td>0.918324</td>\n",
       "      <td>32.148679</td>\n",
       "      <td>1</td>\n",
       "    </tr>\n",
       "    <tr>\n",
       "      <th>3</th>\n",
       "      <td>4</td>\n",
       "      <td>5.467027e-07</td>\n",
       "      <td>124.401753</td>\n",
       "      <td>3.442659</td>\n",
       "      <td>291.253348</td>\n",
       "      <td>1</td>\n",
       "    </tr>\n",
       "    <tr>\n",
       "      <th>4</th>\n",
       "      <td>5</td>\n",
       "      <td>1.143371e-09</td>\n",
       "      <td>119.462192</td>\n",
       "      <td>3.396478</td>\n",
       "      <td>290.039498</td>\n",
       "      <td>1</td>\n",
       "    </tr>\n",
       "  </tbody>\n",
       "</table>\n",
       "</div>"
      ],
      "text/plain": [
       "   index        weight      mass4l    detajj      massjj  target\n",
       "0      0  3.079892e-07  120.716200  0.072145   75.791751       1\n",
       "1      2  5.452208e-07  120.988837  0.111161  215.393826       1\n",
       "2      3  4.036570e-07  124.299057  0.918324   32.148679       1\n",
       "3      4  5.467027e-07  124.401753  3.442659  291.253348       1\n",
       "4      5  1.143371e-09  119.462192  3.396478  290.039498       1"
      ]
     },
     "execution_count": 73,
     "metadata": {},
     "output_type": "execute_result"
    }
   ],
   "source": [
    "sig_train[:5]"
   ]
  },
  {
   "cell_type": "code",
   "execution_count": 74,
   "metadata": {},
   "outputs": [
    {
     "data": {
      "text/html": [
       "<div>\n",
       "<style scoped>\n",
       "    .dataframe tbody tr th:only-of-type {\n",
       "        vertical-align: middle;\n",
       "    }\n",
       "\n",
       "    .dataframe tbody tr th {\n",
       "        vertical-align: top;\n",
       "    }\n",
       "\n",
       "    .dataframe thead th {\n",
       "        text-align: right;\n",
       "    }\n",
       "</style>\n",
       "<table border=\"1\" class=\"dataframe\">\n",
       "  <thead>\n",
       "    <tr style=\"text-align: right;\">\n",
       "      <th></th>\n",
       "      <th>index</th>\n",
       "      <th>weight</th>\n",
       "      <th>mass4l</th>\n",
       "      <th>detajj</th>\n",
       "      <th>massjj</th>\n",
       "      <th>target</th>\n",
       "    </tr>\n",
       "  </thead>\n",
       "  <tbody>\n",
       "    <tr>\n",
       "      <th>0</th>\n",
       "      <td>0</td>\n",
       "      <td>0.000004</td>\n",
       "      <td>123.582292</td>\n",
       "      <td>0.284106</td>\n",
       "      <td>61.398222</td>\n",
       "      <td>-1</td>\n",
       "    </tr>\n",
       "    <tr>\n",
       "      <th>1</th>\n",
       "      <td>1</td>\n",
       "      <td>0.000008</td>\n",
       "      <td>124.873343</td>\n",
       "      <td>1.337551</td>\n",
       "      <td>103.772326</td>\n",
       "      <td>-1</td>\n",
       "    </tr>\n",
       "    <tr>\n",
       "      <th>2</th>\n",
       "      <td>4</td>\n",
       "      <td>0.000004</td>\n",
       "      <td>124.017472</td>\n",
       "      <td>0.999458</td>\n",
       "      <td>94.890323</td>\n",
       "      <td>-1</td>\n",
       "    </tr>\n",
       "    <tr>\n",
       "      <th>3</th>\n",
       "      <td>5</td>\n",
       "      <td>0.000007</td>\n",
       "      <td>123.023175</td>\n",
       "      <td>3.219344</td>\n",
       "      <td>281.517988</td>\n",
       "      <td>-1</td>\n",
       "    </tr>\n",
       "    <tr>\n",
       "      <th>4</th>\n",
       "      <td>6</td>\n",
       "      <td>0.000006</td>\n",
       "      <td>123.183463</td>\n",
       "      <td>0.762342</td>\n",
       "      <td>45.144049</td>\n",
       "      <td>-1</td>\n",
       "    </tr>\n",
       "  </tbody>\n",
       "</table>\n",
       "</div>"
      ],
      "text/plain": [
       "   index    weight      mass4l    detajj      massjj  target\n",
       "0      0  0.000004  123.582292  0.284106   61.398222      -1\n",
       "1      1  0.000008  124.873343  1.337551  103.772326      -1\n",
       "2      4  0.000004  124.017472  0.999458   94.890323      -1\n",
       "3      5  0.000007  123.023175  3.219344  281.517988      -1\n",
       "4      6  0.000006  123.183463  0.762342   45.144049      -1"
      ]
     },
     "execution_count": 74,
     "metadata": {},
     "output_type": "execute_result"
    }
   ],
   "source": [
    "bkg_train[:5]"
   ]
  },
  {
   "cell_type": "markdown",
   "metadata": {},
   "source": [
    "### Simple routine to plot distributions of variables"
   ]
  },
  {
   "cell_type": "code",
   "execution_count": 75,
   "metadata": {},
   "outputs": [],
   "source": [
    "def plot_var(d, name, dw=None, xbins=50):\n",
    "    \n",
    "    # get lower and upper x-limits of histogram\n",
    "    x    = d[name]\n",
    "    xmin = x.min()\n",
    "    xmean= x.mean()\n",
    "    xstd = x.std()\n",
    "    xmax = xmean + 3.5 * xstd\n",
    "    \n",
    "    # set size of figure\n",
    "    fig = plt.figure(figsize=(5, 4)) \n",
    "    ax  = fig.add_subplot(1, 1, 1)\n",
    "        \n",
    "    ax.set_xlabel(name, fontsize=14)\n",
    "    ax.set_xlim(xmin, xmax)\n",
    "    ax.hist(x, \n",
    "            bins=xbins,\n",
    "            density=True,\n",
    "            color='steelblue', \n",
    "            histtype='stepfilled',\n",
    "            alpha=0.4,\n",
    "            range=(xmin, xmax), \n",
    "            label='unweighted')\n",
    "    try:\n",
    "        ax.hist(dw[name], \n",
    "                weights=dw.weight,\n",
    "                bins=xbins,\n",
    "                density=True,\n",
    "                color='red',\n",
    "                linewidth=2,\n",
    "                histtype='step',\n",
    "                range=(xmin, xmax), \n",
    "                label='weighted')\n",
    "        ax.legend()\n",
    "    except:\n",
    "        pass\n",
    "        \n",
    "    fig.tight_layout()\n",
    "    plt.show()"
   ]
  },
  {
   "cell_type": "markdown",
   "metadata": {},
   "source": [
    "Plot weight distribution of background"
   ]
  },
  {
   "cell_type": "code",
   "execution_count": 76,
   "metadata": {},
   "outputs": [
    {
     "data": {
      "image/png": "[encoded data removed]",
      "text/plain": [
       "<Figure size 500x400 with 1 Axes>"
      ]
     },
     "metadata": {},
     "output_type": "display_data"
    }
   ],
   "source": [
    "plot_var(bkg_test, 'weight')"
   ]
  },
  {
   "cell_type": "markdown",
   "metadata": {},
   "source": [
    "### A slightly modified binary search"
   ]
  },
  {
   "cell_type": "code",
   "execution_count": 77,
   "metadata": {},
   "outputs": [],
   "source": [
    "#------------------------------------------------------------------------------\n",
    "# File: unweight.py\n",
    "# Description: Create unweighted events from weighted ones.\n",
    "# Created: 19-Dec-2005 Harrison B. Prosper\n",
    "#----------------------------------------------------------------\n",
    "# Binary search - Slightly modified version of \n",
    "# Prof. Jessen Havill's program (Denison University)\n",
    "#----------------------------------------------------------------\n",
    "def binsearch(L, item):\n",
    "    first = 0\n",
    "    last = len(L) - 1   \n",
    "\n",
    "    found = False\n",
    "    while (first <= last) and not found:\n",
    "        mid = int((first + last) / 2)\n",
    "        if item <= L[mid]: \n",
    "            last = mid       \n",
    "        elif item > L[mid]:\n",
    "            first = mid + 1\n",
    "            \n",
    "        if first >= last:\n",
    "            mid = first\n",
    "            found = True\n",
    "\n",
    "        if found: return mid\n",
    "    return -1"
   ]
  },
  {
   "cell_type": "markdown",
   "metadata": {},
   "source": [
    "### Unweight events\n",
    "\n",
    "__Method__:\n",
    "\n",
    "The basic idea is to select events with a probability proportional to the event weight.\n",
    "  1. Compute cumulative distribution of event weights (*cdf*)\n",
    "  1. Compute sum of weights *cdfmax*\n",
    "  1. Compute effective count: $N = \\mathbb{E}^2(w) / \\mathbb{E}(w^2)$\n",
    "  1. Sample $w \\sim \\textrm{uniform}(0, cdfmax)$\n",
    "  1. Use a binary search to find in which event $k$ $w$ lies and add the event number to the set of selected events.\n",
    "  1. Repeat 4 and 5 $N$ times."
   ]
  },
  {
   "cell_type": "code",
   "execution_count": 78,
   "metadata": {},
   "outputs": [],
   "source": [
    "def unweight_events(data):\n",
    "    \n",
    "    # compute cumulative distribution\n",
    "    wt  = data.weight.to_numpy()\n",
    "    cdf = np.cumsum(wt)\n",
    "    cdfmax = cdf[-1]\n",
    "    \n",
    "    # compute effective sample count\n",
    "    w1 = wt.sum()\n",
    "    w2 =(wt**2).sum()\n",
    "    N  = int(w1**2 / w2)\n",
    "    \n",
    "    # sample with replacement to unweight events\n",
    "    select = []\n",
    "    for i in range(N):\n",
    "        w = rnd.uniform(0, cdfmax)\n",
    "        k = binsearch(cdf, w)\n",
    "        if k < 0:\n",
    "            raise ValueError('k is negative => failed binsearch!')\n",
    "        \n",
    "        select.append(k)\n",
    "        \n",
    "    print('Effective sample size: %10d' % N)\n",
    "    \n",
    "    # return selected events\n",
    "    D = data.iloc[select].sample(frac=1).reset_index()\n",
    "    D = D.drop(['weight', 'level_0', 'index'], axis=1)\n",
    "    return D"
   ]
  },
  {
   "cell_type": "markdown",
   "metadata": {},
   "source": [
    "Unweight Higgs events"
   ]
  },
  {
   "cell_type": "code",
   "execution_count": 79,
   "metadata": {},
   "outputs": [
    {
     "name": "stdout",
     "output_type": "stream",
     "text": [
      "Effective sample size:      43192\n",
      "Effective sample size:       5395\n",
      "Effective sample size:       5404\n"
     ]
    }
   ],
   "source": [
    "sig_train_u = unweight_events(sig_train)\n",
    "sig_valid_u = unweight_events(sig_valid)\n",
    "sig_test_u  = unweight_events(sig_test)"
   ]
  },
  {
   "cell_type": "markdown",
   "metadata": {},
   "source": [
    "Unweight background events"
   ]
  },
  {
   "cell_type": "code",
   "execution_count": 80,
   "metadata": {},
   "outputs": [
    {
     "name": "stdout",
     "output_type": "stream",
     "text": [
      "Effective sample size:      28560\n",
      "Effective sample size:       3557\n",
      "Effective sample size:       3560\n"
     ]
    }
   ],
   "source": [
    "bkg_train_u = unweight_events(bkg_train)\n",
    "bkg_valid_u = unweight_events(bkg_valid)\n",
    "bkg_test_u  = unweight_events(bkg_test)"
   ]
  },
  {
   "cell_type": "code",
   "execution_count": 81,
   "metadata": {},
   "outputs": [
    {
     "data": {
      "text/html": [
       "<div>\n",
       "<style scoped>\n",
       "    .dataframe tbody tr th:only-of-type {\n",
       "        vertical-align: middle;\n",
       "    }\n",
       "\n",
       "    .dataframe tbody tr th {\n",
       "        vertical-align: top;\n",
       "    }\n",
       "\n",
       "    .dataframe thead th {\n",
       "        text-align: right;\n",
       "    }\n",
       "</style>\n",
       "<table border=\"1\" class=\"dataframe\">\n",
       "  <thead>\n",
       "    <tr style=\"text-align: right;\">\n",
       "      <th></th>\n",
       "      <th>mass4l</th>\n",
       "      <th>detajj</th>\n",
       "      <th>massjj</th>\n",
       "      <th>target</th>\n",
       "    </tr>\n",
       "  </thead>\n",
       "  <tbody>\n",
       "    <tr>\n",
       "      <th>0</th>\n",
       "      <td>125.197810</td>\n",
       "      <td>1.984506</td>\n",
       "      <td>91.458166</td>\n",
       "      <td>-1</td>\n",
       "    </tr>\n",
       "    <tr>\n",
       "      <th>1</th>\n",
       "      <td>124.897897</td>\n",
       "      <td>1.973783</td>\n",
       "      <td>85.440388</td>\n",
       "      <td>-1</td>\n",
       "    </tr>\n",
       "    <tr>\n",
       "      <th>2</th>\n",
       "      <td>125.071274</td>\n",
       "      <td>3.446349</td>\n",
       "      <td>169.422859</td>\n",
       "      <td>-1</td>\n",
       "    </tr>\n",
       "    <tr>\n",
       "      <th>3</th>\n",
       "      <td>123.251477</td>\n",
       "      <td>2.703899</td>\n",
       "      <td>133.837052</td>\n",
       "      <td>-1</td>\n",
       "    </tr>\n",
       "    <tr>\n",
       "      <th>4</th>\n",
       "      <td>123.500626</td>\n",
       "      <td>1.499506</td>\n",
       "      <td>78.232923</td>\n",
       "      <td>-1</td>\n",
       "    </tr>\n",
       "  </tbody>\n",
       "</table>\n",
       "</div>"
      ],
      "text/plain": [
       "       mass4l    detajj      massjj  target\n",
       "0  125.197810  1.984506   91.458166      -1\n",
       "1  124.897897  1.973783   85.440388      -1\n",
       "2  125.071274  3.446349  169.422859      -1\n",
       "3  123.251477  2.703899  133.837052      -1\n",
       "4  123.500626  1.499506   78.232923      -1"
      ]
     },
     "execution_count": 81,
     "metadata": {},
     "output_type": "execute_result"
    }
   ],
   "source": [
    "bkg_test_u[:5]"
   ]
  },
  {
   "cell_type": "markdown",
   "metadata": {},
   "source": [
    "### Check that unweighting was successful"
   ]
  },
  {
   "cell_type": "code",
   "execution_count": 84,
   "metadata": {},
   "outputs": [
    {
     "data": {
      "image/png": "[encoded data removed]",
      "text/plain": [
       "<Figure size 500x400 with 1 Axes>"
      ]
     },
     "metadata": {},
     "output_type": "display_data"
    }
   ],
   "source": [
    "WHICH= 'bkg'   # sig or bkg\n",
    "TYPE = 'test'  # train, valid, or test\n",
    "\n",
    "df   = eval('%s_%s'   % (WHICH, TYPE))\n",
    "df_u = eval('%s_%s_u' % (WHICH, TYPE))\n",
    "\n",
    "plot_var(df_u, 'massjj', df)"
   ]
  },
  {
   "cell_type": "markdown",
   "metadata": {},
   "source": [
    "### Save unweighted events to csv file"
   ]
  },
  {
   "cell_type": "code",
   "execution_count": 86,
   "metadata": {},
   "outputs": [],
   "source": [
    "def to_csv(sig, bkg, filename, N=-1):\n",
    "    if N > 0:\n",
    "        N = min(len(sig), len(bkg), N)\n",
    "        sig = sig[:N]\n",
    "        bkg = bkg[:N]\n",
    "\n",
    "    # concatenate signal and background events\n",
    "    df = pd.concat([sig, bkg])\n",
    "    \n",
    "    # and shuffle rows in dataframe\n",
    "    df = df.sample(frac=1)\n",
    "\n",
    "    df.to_csv(filename, index=False)\n",
    "    print('saved %d rows' % len(df))\n",
    "    \n",
    "    return df"
   ]
  },
  {
   "cell_type": "code",
   "execution_count": 88,
   "metadata": {},
   "outputs": [
    {
     "name": "stdout",
     "output_type": "stream",
     "text": [
      "saved 50000 rows\n",
      "saved 5000 rows\n",
      "saved 5000 rows\n"
     ]
    },
    {
     "data": {
      "text/html": [
       "<div>\n",
       "<style scoped>\n",
       "    .dataframe tbody tr th:only-of-type {\n",
       "        vertical-align: middle;\n",
       "    }\n",
       "\n",
       "    .dataframe tbody tr th {\n",
       "        vertical-align: top;\n",
       "    }\n",
       "\n",
       "    .dataframe thead th {\n",
       "        text-align: right;\n",
       "    }\n",
       "</style>\n",
       "<table border=\"1\" class=\"dataframe\">\n",
       "  <thead>\n",
       "    <tr style=\"text-align: right;\">\n",
       "      <th></th>\n",
       "      <th>mass4l</th>\n",
       "      <th>detajj</th>\n",
       "      <th>massjj</th>\n",
       "      <th>target</th>\n",
       "    </tr>\n",
       "  </thead>\n",
       "  <tbody>\n",
       "    <tr>\n",
       "      <th>1721</th>\n",
       "      <td>121.788477</td>\n",
       "      <td>4.155531</td>\n",
       "      <td>814.198138</td>\n",
       "      <td>1</td>\n",
       "    </tr>\n",
       "    <tr>\n",
       "      <th>2305</th>\n",
       "      <td>125.814360</td>\n",
       "      <td>3.432720</td>\n",
       "      <td>293.062246</td>\n",
       "      <td>1</td>\n",
       "    </tr>\n",
       "    <tr>\n",
       "      <th>603</th>\n",
       "      <td>119.421988</td>\n",
       "      <td>3.176038</td>\n",
       "      <td>187.240780</td>\n",
       "      <td>-1</td>\n",
       "    </tr>\n",
       "    <tr>\n",
       "      <th>1922</th>\n",
       "      <td>119.961254</td>\n",
       "      <td>0.304112</td>\n",
       "      <td>42.068307</td>\n",
       "      <td>-1</td>\n",
       "    </tr>\n",
       "    <tr>\n",
       "      <th>270</th>\n",
       "      <td>119.280590</td>\n",
       "      <td>4.329558</td>\n",
       "      <td>890.590023</td>\n",
       "      <td>1</td>\n",
       "    </tr>\n",
       "    <tr>\n",
       "      <th>1050</th>\n",
       "      <td>119.712648</td>\n",
       "      <td>0.434336</td>\n",
       "      <td>147.711852</td>\n",
       "      <td>-1</td>\n",
       "    </tr>\n",
       "    <tr>\n",
       "      <th>194</th>\n",
       "      <td>127.064029</td>\n",
       "      <td>2.069314</td>\n",
       "      <td>236.763752</td>\n",
       "      <td>-1</td>\n",
       "    </tr>\n",
       "    <tr>\n",
       "      <th>2336</th>\n",
       "      <td>125.126476</td>\n",
       "      <td>3.926730</td>\n",
       "      <td>753.524053</td>\n",
       "      <td>1</td>\n",
       "    </tr>\n",
       "    <tr>\n",
       "      <th>1175</th>\n",
       "      <td>124.910131</td>\n",
       "      <td>1.827156</td>\n",
       "      <td>202.609735</td>\n",
       "      <td>-1</td>\n",
       "    </tr>\n",
       "    <tr>\n",
       "      <th>418</th>\n",
       "      <td>108.283104</td>\n",
       "      <td>2.044817</td>\n",
       "      <td>105.590852</td>\n",
       "      <td>-1</td>\n",
       "    </tr>\n",
       "  </tbody>\n",
       "</table>\n",
       "</div>"
      ],
      "text/plain": [
       "          mass4l    detajj      massjj  target\n",
       "1721  121.788477  4.155531  814.198138       1\n",
       "2305  125.814360  3.432720  293.062246       1\n",
       "603   119.421988  3.176038  187.240780      -1\n",
       "1922  119.961254  0.304112   42.068307      -1\n",
       "270   119.280590  4.329558  890.590023       1\n",
       "1050  119.712648  0.434336  147.711852      -1\n",
       "194   127.064029  2.069314  236.763752      -1\n",
       "2336  125.126476  3.926730  753.524053       1\n",
       "1175  124.910131  1.827156  202.609735      -1\n",
       "418   108.283104  2.044817  105.590852      -1"
      ]
     },
     "execution_count": 88,
     "metadata": {},
     "output_type": "execute_result"
    }
   ],
   "source": [
    "# last argument is the number of events / signal or background\n",
    "# so that we create balanced data sets\n",
    "df = to_csv(sig_train_u, bkg_train_u, '../datasets/atlas_opendata_4l_train.csv.gz', 25000)\n",
    "df = to_csv(sig_valid_u, bkg_valid_u, '../datasets/atlas_opendata_4l_valid.csv.gz',  2500)\n",
    "df = to_csv(sig_test_u,  bkg_test_u,  '../datasets/atlas_opendata_4l_test.csv.gz',   2500)\n",
    "df[:10]"
   ]
  },
  {
   "cell_type": "code",
   "execution_count": 91,
   "metadata": {},
   "outputs": [
    {
     "data": {
      "image/png": "[encoded data removed]",
      "text/plain": [
       "<Figure size 500x400 with 1 Axes>"
      ]
     },
     "metadata": {},
     "output_type": "display_data"
    },
    {
     "data": {
      "image/png": "[encoded data removed]",
      "text/plain": [
       "<Figure size 500x400 with 1 Axes>"
      ]
     },
     "metadata": {},
     "output_type": "display_data"
    }
   ],
   "source": [
    "select = df.target<0.5\n",
    "plot_var(df[select], 'massjj', df[select])\n",
    "\n",
    "select = df.target>0.5\n",
    "plot_var(df[select], 'massjj', df[select])"
   ]
  },
  {
   "cell_type": "code",
   "execution_count": null,
   "metadata": {},
   "outputs": [],
   "source": []
  }
 ],
 "metadata": {
  "kernelspec": {
   "display_name": "Python 3 (ipykernel)",
   "language": "python",
   "name": "python3"
  },
  "language_info": {
   "codemirror_mode": {
    "name": "ipython",
    "version": 3
   },
   "file_extension": ".py",
   "mimetype": "text/x-python",
   "name": "python",
   "nbconvert_exporter": "python",
   "pygments_lexer": "ipython3",
   "version": "3.11.8"
  }
 },
 "nbformat": 4,
 "nbformat_minor": 4
}
