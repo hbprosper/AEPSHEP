{
 "cells": [
  {
   "cell_type": "markdown",
   "metadata": {},
   "source": [
    "# Convolutional Neural Networks with PyTorch\n",
    "> LPC Statistics Course 2021, Fermilab <br>\n",
    "> INFN SOS 2022, Paestum, Italy<br>\n",
    "> AEPSHEP 2024, Thailand<br>\n",
    "> Harrison B. Prosper\n",
    "\n",
    "## Introduction\n",
    "In this tutorial, we use a simple convolutional neural network (CNN) to classify images of quark and gluon-initiated jets.\n",
    "\n",
    "Each image in the [QuarkGluon](https://www.kaggle.com/datasets/anonymous2506/quarkgluon) kaggle dataset is represented by a $(125, 125)$ matrix. This notebook uses a subset of 60,000 images from that dataset, which have already been processed as follows.\n",
    "  1. The images have been coarse-grained to images of shape (25, 25).\n",
    "  2. They are then cropped to (16, 16) images after placing the brightest pixel at the same (off-center) point in the image.\n",
    "  3. The 3 image planes have been averaged and the matrix element values are mapped to the set $[0, \\cdots, 1]$ by dividing every pixel by 255.\n",
    "    \n",
    "During training (and testing), a **batch** of images must be stored in a 4-index tensor $\\mathbf{x}_{ncij}$ of **shape** $(N, C, H, W)$. Think of this as a 4-dimensional array each cell of which contains a pixel value. The first index (dim = 0) labels the ordinal value (position) of an image in a batch of $N$ images; the second index (dim = 1) labels the number of **channels**, $C$, that is, image planes, which for our images is $C = 1$, while the last two indices (dim = 2, 3) label the pixels of an image of height and width $H$ and $W$, respectively. \n",
    "\n",
    "## Model\n",
    "\n",
    "A typical convolutional neural network (CNN) comprises an alternating sequence of convolutional and coarse-graining (or **down-sampling**) layers ending with a fully-connected feed-forward neural network. A convolutional layer cross-correlates its inputs with a kernel, while (typically) increasing the number of output channels. The coarse-graining layer takes in one or more image planes, that is, channels, and creates multi-channel output images of smaller size. Here is a high-level view of the model we shall fit,\n",
    "\n",
    "\\begin{align*}\n",
    "\\mathbf{y} & = \\text{softmax}(\\, \\text{flatten} (\\, \\text{g}(\\mathbf{b}_1 + {\\rm cc}(\\mathbf{w}_1, \\, \\text{g}(\\mathbf{b}_0 + {\\rm cc}(\\mathbf{w}_0, \\, \\mathbf{x}) \\, ) \\, ) \\, ) \\, ) \\, ),\n",
    "\\end{align*}\n",
    "\n",
    "where $\\mathbf{b}$ and $\\mathbf{w}$, the biases and weights, are the parameters of the model and the functions **softmax**, **flatten**, **g**, and **cc** are defined as follows:\n",
    "\n",
    "  * __softmax__ For $K$ output classes, \n",
    "\\begin{align*}\n",
    "\\text{softmax}(x)_k & = \\frac{\\exp(x_{k})}{\\sum_{j=1}^{K} \\exp(x_{j})} ,\n",
    "\\end{align*}\n",
    "where $x_{k}$ denotes the $k^\\text{th}$ output of the previous layer. The\n",
    "softmax function\n",
    "bounds the output values to the unit interval and ensure that \n",
    "their sum is unity. \n",
    "\n",
    "  * __flatten__ Given tensor $\\mathbf{x}$, this function restructures $\\mathbf{x}$ into a 1D tensor (a 1D array).\n",
    "\n",
    "  * __g__ Given tensor $\\mathbf{x}$, this function operates element-wise on its inputs and returns \n",
    "  \\begin{align}\n",
    "  \\text{f}(\\mathbf{x}) = \\text{relu}(\\,\\text{maxpool}(\\,\\mathbf{x}\\,)\\,),\n",
    "  \\end{align}\n",
    "  where relu, and maxpool are defined below.\n",
    "\n",
    "  * __cc__ Given tensors $\\mathbf{w}$ and $\\mathbf{x}$, this function returns their cross-correlation.\n",
    "    \\begin{align}\n",
    "    \\mathbf{x}_{kij} = \\sum_{c=1}^{C} \\sum_{r=-2}^2 \\sum_{s=-2}^2  \\mathbf{x}_{c,\\, i+r,\\,j+s} \\, \\mathbf{w}_{kcrs} .\n",
    "    \\end{align}\n",
    "\n",
    "  * __relu__ Given tensor $\\mathbf{x}$, the function \n",
    "\\begin{align*}\n",
    "{\\rm relu}(x) &= \\begin{cases}\n",
    "    x, & \\text{if } x \\gt 0\\\\\n",
    "    0              & \\text{otherwise}.\n",
    "\\end{cases}\n",
    "\\end{align*}\n",
    "is applied\n",
    "*element-wise*, that is, to every element of the tensor.\n",
    "\n",
    "  * __maxpool__ Given tensor $\\mathbf{x}$, this function uses a moveable window to apply a coarse-graining operation over $\\mathbf{x}$. In this tutorial, the moveable window  splits the tensor into non-overlapping pieces. For each piece, the maximum pixel value within that piece is returned. For example, if $\\mathbf{x}$ is a 2D tensor, e.g., a matrix, of shape (16, 16), and the window is of shape (2, 2), maxpool splits the original matrix into $8 \\times 8$ non-overlapping pieces of shape (2, 2) and returns the maximum value within each piece, thereby creating a new matrix of shape (8, 8).\n",
    "\n",
    "A high-level view is a good way to represent the structure of a model.  But it is also good to try to understand the details...at least once. As is often true, a detailed mathematical description of a complicated function is made easier using an example. \n",
    "\n",
    "### Convolutional layer\n",
    "The data into the first convolutional layer are a sequence of single channel jet images $\\mathbf{x}$ of shape $(N, 1, 16, 16)$, that is, the data  form a tensor comprising a batch of $N$ images, each with a single channel ($C = 1)$ and each a $(16, 16)$ matrix of pixels. This tensor is cross-correlated with a 4D tensor of weights $\\mathbf{w}_0$ with shape $(4, 1, 3, 3)$. We shall refer to the latter as a **kernel** and each of its $4 \\times 1$, $(3, 3)$, matrices (or 2D tensors) as a **filter**. The first index of the kernel is the number of **output channels** (here, 4), the second is the number of **input channels** (here, 1). Therefore, a given $(3, 3)$ filter is identified by two indices: its output and input channel numbers. The last two indices of the kernel are the height (3) and width (3), respectively, of its filters. \n",
    "\n",
    "(Unfortunately, the jargon is not consistent across the machine learning literature. What we call a filter is indeed often referred to as a filter, but it is also called a kernel, and what we call a kernel, that is, a stack of one or more filters, often has no specific name attached to it!) \n",
    "\n",
    "The operation of the convolutional layer for filters with odd-numbered height and width, e.g. $(3, 3)$, can be written as\n",
    "\n",
    "\\begin{align}\n",
    "    (\\mathbf{b}_0)_k + (\\mathbf{w}_0 \\otimes \\mathbf{x})_{nkij} &= (\\mathbf{b}_0)_k + \\sum_{c=0}^{C-1} \\sum_{r=-2}^2 \\sum_{s=-2}^2  \\mathbf{x}_{nc,\\, i+r,\\,j+s} \\, (\\mathbf{w}_0)_{kcrs}, \\quad i, j = 0,\\cdots, 15,\n",
    "\\end{align}\n",
    "\n",
    "where we have chosen to label the central matrix element of a filter with the indices $(0, 0)$ and the other elements with indices that can be positive or negative integers. In the above expression, for a given pixel $i, j$, the filter labeled $k, c$, namely the matrix $(\\mathbf{w}_0)_{kc}$ with matrix elements $(\\mathbf{w}_0)_{kcrs}$ is cross-correlated with channel $c$ of input image $n$ and a sum over the cross-correlated input channels, that is, over the index $c$, is performed resulting in $k$ output images.\n",
    "\n",
    "However, for the above computations to work as shown, we need (in effect) to surround each image with extra strips of pixels. This operation is called **padding**. We pad each image with 1 strip of pixels with value zero. This padding makes it possible to center each of the $4 \\times 1$ $(3, 3)$ filters on every pixel, $i, j$, of the image. We are free to make other choices.\n",
    "\n",
    "Since the input image is a $(16, 16)$ matrix padded with 1 strip of pixels around the boundary, and each of the 4 filterd is a $(3, 3)$ matrix,\n",
    "the output of the convolution step will be a tensor of shape $(N, 4, 16, 16)$ provided that we use a **stride** of 1, that is, if during the cross-correlation we shift the filters a horizontal or vertical step of 1 pixel. Other choices are possible. Therefore, by\n",
    "construction, the output of this convolutional layer is $N$ 4-channel images of the same size as the original, namely $(16, 16)$.\n",
    "\n",
    "### Coarse-graining layer\n",
    "A convolutional layer is often followed by a coarse-graining, that is, down-sampling, layer that reduces the number of pixels per image. In this tutorial, the number of pixels in the image created by the convolutional layer is reduced by a factor 2 in both directions; that is, each of the 4 channels of the $(16, 16)$ image is down-sampled to an $(8, 8)$ channel by replacing the corresponding group of pixels of shape $(2, 2)$ with a pixel whose value is set to the largest value among the group of 4 pixels.  This operation, called **max-pooling**, can be expressed as\n",
    "\n",
    "\\begin{align}\n",
    "    {\\rm maxpool}(O)_{nkij} &= \\max{ \\{O_{nk,\\, 2i + r,\\, 2j + s} \\}_{r,\\,s = 0, 1} } \\quad i, j = 0,\\cdots, 15,\n",
    "\\end{align}\n",
    "\n",
    "where $O$ is the output of a convolutional layer. Again, other choices are possible.\n",
    "\n",
    "After max-pooling, the output tensor has shape $(N, 4, 8, 8)$. A relu **activation function** is applied to each element of this tensor and completes one sequence of operations: cross-correlation, down-sampling, and non-linear activation. \n",
    "\n",
    "A second convolutional layer follows whose input must match the output of the previous max-pooling operation, which contains $N$ sequences of images, each with 4 channels, and each an $(8, \\, 8)$ matrix padded with a 1-pixel boundary. The kernel in this layer contains $4 \\times 4$, $(3, 3)$, filters, that is, it is of shape $(4, 4, 3, 3)$. For a given input channel $c$, each of the $4 \\times 4$ $(3, 3)$ filters of the sub-kernel $(4, c, 3, 3)$ is cross-correlated with input channel $c$. The cross-correlated input channels are then summed pixel by pixel over the 4 channels to yield  an 4-channel output image from this layer. The output, therefore, is a tensor of shape $(N, 4, 8, 8)$.\n",
    "\n",
    "Finally, a second max-pooling layer is applied, which transforms the 4-channel image of 2D size $(8, 8)$ to an 4-channel image of size $(4, 4)$. The image is then flattened into a 1D tensor (basically, a 1D array) of size $4 \\times 4 \\times 4 = 64$, which are the inputs of the final linear layer with 2 outputs. Finally, a softmax function is applied to normalize the sum of the two outputs to one.\n",
    "\n",
    "\n",
    "### Discussion\n",
    "The net effect of the sequence of nested layers, prior to flattening, is to transform each $(16, 16)$ input image into a 4-channel (4, 4) output image. The hope is that the output image captures the most relevant features of the input image thereby improving the accuracy of the subsequent classification. But why use cross-correlation?\n",
    "\n",
    "The intuition behind the cross-correlation operation is that natural images tend to have similar features in different parts of the image. A filter that is sensitive to vertical features would tend to produce an output image that enhances vertical features, while suppressing the expression of horizontal features. It therefore seems plausible that if one could design filters that are sensitive to different image features, the set of filters could potentially transform an image into another in which the most relevant features are enhanced while the least relevant are suppressed. \n",
    "\n",
    "In the early days of image recognition systems, researchers tried to describe in software what they considered to be the most relevant features in images. This proved to be extremely difficult and success was limited. Today hand-coding is no longer necessary because the values of the parameters of the kernels can be determined automatically by minimizing an appropriate (average) loss function. However, the mere fact that a large number of images is needed to fit these parameters is evidence that current machine learning methods and models, while spectacularly successful, are still far removed from the internal models humans use to learn about the world. \n",
    "\n",
    "A young child need be shown labeled objects, cat, dog, doll, truck, car, just a few times before being able to classify them correctly. The child can do this even when the objects are presented to her in orientations that differ from the ones used during the \"training phase\". This extraordinary ability suggests that the child's brain constructs a fault tolerant model of each object using only its most relevant features and is able to match rapidly the input image with the stored, or more likely auto-reconstructed, fault tolerant model. The model is clearly fault tolerant because the child is able to ignore \"faults\" such as viewing the objects in lighting that differs from that used during the \"training phase\", or ignoring the fact that now the car has lost a couple of wheels or the doll is now wearing different clothes and so on. \n",
    "\n",
    "In spite of the truly impressive recent successes, it is clear that machine learning-based artificial intelligence still has a long way to go. Of course, it could be that the age-old goal of building machines that think like humans is simply the wrong goal. After all, there are already many instances in which researchers have inadvertently succeeded in producing machines that mimic our prejudices, which is hardly progress. Therefore, perhaps we should embrace the \"artificial\" in artificial intelligence and the possibility that these machines will inevitably \"think\" differently from us. The trick, of course, is to have them \"think\" in a way that improves the human condition. It would not be helpful if, for example, our super-intelligent machine concluded that the best way to solve rapid climate change is to eliminate one of its culprits, namely, the species Homo sapiens!"
   ]
  },
  {
   "cell_type": "code",
   "execution_count": 57,
   "metadata": {},
   "outputs": [],
   "source": [
    "import os, sys\n",
    "import pandas as pd\n",
    "import numpy as np\n",
    "\n",
    "import matplotlib as mp\n",
    "import matplotlib.pyplot as plt\n",
    "\n",
    "# to plot pixelized images\n",
    "import imageio.v3 as im\n",
    "\n",
    "# PyTorch\n",
    "import torch\n",
    "import torch.nn as nn\n",
    "\n",
    "# to load objects into memory\n",
    "import joblib as jb\n",
    "\n",
    "# to reload modules\n",
    "import importlib\n",
    "\n",
    "from glob import glob\n",
    "\n",
    "%matplotlib inline"
   ]
  },
  {
   "cell_type": "code",
   "execution_count": 58,
   "metadata": {},
   "outputs": [],
   "source": [
    "# update fonts\n",
    "FONTSIZE = 14\n",
    "font = {'family' : 'sans-serif',\n",
    "        'weight' : 'normal',\n",
    "        'size'   : FONTSIZE}\n",
    "mp.rc('font', **font)\n",
    "\n",
    "mp.rc('text', usetex=True)\n",
    "\n",
    "# set a seed to ensure reproducibility \n",
    "# on a given machine\n",
    "seed = 128\n",
    "rnd  = np.random.RandomState(seed)"
   ]
  },
  {
   "cell_type": "markdown",
   "metadata": {},
   "source": [
    "## Load images"
   ]
  },
  {
   "cell_type": "code",
   "execution_count": 59,
   "metadata": {},
   "outputs": [],
   "source": [
    "def plot_images(images, n_rows=4, n_cols=3, f_size=(6, 8)):\n",
    "    f, axs = plt.subplots(nrows=n_rows, \n",
    "                         ncols=n_cols, \n",
    "                         figsize=f_size)\n",
    "    axs = axs.flatten()\n",
    "\n",
    "    # note use of flatten() to convert a matrix of shape (nrows, ncols)\n",
    "    # to a 1-d array.\n",
    "    for image, ax in zip(images[:len(axs)], axs):\n",
    "        ax.axis('off')\n",
    "        ax.imshow(image, cmap='viridis')\n",
    "\n",
    "    plt.savefig('jet_images.png')\n",
    "    plt.show()"
   ]
  },
  {
   "cell_type": "code",
   "execution_count": 60,
   "metadata": {},
   "outputs": [
    {
     "data": {
      "image/png": "[encoded data removed]",
      "text/plain": [
       "<Figure size 600x800 with 12 Axes>"
      ]
     },
     "metadata": {},
     "output_type": "display_data"
    },
    {
     "data": {
      "text/plain": [
       "((10000, 16, 16), (10000,))"
      ]
     },
     "execution_count": 60,
     "metadata": {},
     "output_type": "execute_result"
    }
   ],
   "source": [
    "Test_x,  Test_t  = jb.load('../../datasets/quark_gluon_test.pkl.gz')\n",
    "train_x, train_t = jb.load('../../datasets/quark_gluon_train.pkl.gz')\n",
    "\n",
    "plot_images(Test_x)\n",
    "Test_x.shape, Test_t.shape"
   ]
  },
  {
   "cell_type": "markdown",
   "metadata": {},
   "source": [
    "### Prepare training and validation datasets"
   ]
  },
  {
   "cell_type": "code",
   "execution_count": 7,
   "metadata": {},
   "outputs": [
    {
     "name": "stdout",
     "output_type": "stream",
     "text": [
      "number of images for training:        50000\n",
      "number of images for validation:       5000\n",
      "number of images for testing:          5000\n"
     ]
    }
   ],
   "source": [
    "M = int(len(Test_x)/2 + 0.1)\n",
    "\n",
    "test_x, val_x = Test_x[:M], Test_x[M:]\n",
    "test_t, val_t = Test_t[:M], Test_t[M:]\n",
    "\n",
    "n_train = len(train_x)\n",
    "n_valid = len(val_x)\n",
    "n_test  = len(test_x)\n",
    "\n",
    "print(\"number of images for training:   %10d\" % n_train)\n",
    "print(\"number of images for validation: %10d\" % n_valid)\n",
    "print(\"number of images for testing:    %10d\" % n_test)"
   ]
  },
  {
   "cell_type": "markdown",
   "metadata": {},
   "source": [
    "### Building a model as a Python class\n",
    "\n",
    "The __nn.Sequential__ class is the simplest way to construct (simple) PyTorch models. But if you want more control over the model, you can achieve this by building the model as a class inheriting from __nn.Module__ as in the following cell. \n",
    "\n",
    "We use some notebook magic to write the following cell to a file, which can then be imported into another notebook. Note: we need to import the saved class to make it visible to this notebook!"
   ]
  },
  {
   "cell_type": "code",
   "execution_count": 27,
   "metadata": {},
   "outputs": [
    {
     "name": "stdout",
     "output_type": "stream",
     "text": [
      "Overwriting CNN.py\n"
     ]
    }
   ],
   "source": [
    "%%writefile CNN.py\n",
    "\n",
    "import torch.nn as nn\n",
    "\n",
    "model = nn.Sequential(\n",
    "    \n",
    "    # image shape: (-1, 1, 16, 16) => (-1, 4, 16, 16)\n",
    "    nn.Conv2d(in_channels=1,   # input channels\n",
    "              out_channels=4,  # output channels\n",
    "              kernel_size=3,   # 3x3 filter\n",
    "              stride=1,\n",
    "              padding=1),\n",
    "    \n",
    "    # image shape: (-1, 4, 16, 16) => (-1, 4, 8, 8)\n",
    "    nn.MaxPool2d(kernel_size=(2, 2), stride=2),\n",
    "    nn.ReLU(),\n",
    "\n",
    "    # image shape: (-1, 4, 8, 8) => (-1, 4, 8, 8)\n",
    "    nn.Conv2d(in_channels=4,   # input channels\n",
    "              out_channels=4,  # output channels\n",
    "              kernel_size=3,\n",
    "              stride=1,\n",
    "              padding=1),\n",
    "\n",
    "    # image shape: (-1, 4, 8, 8) => (-1, 4, 4, 4)\n",
    "    nn.MaxPool2d(kernel_size=(2, 2), stride=2),\n",
    "    nn.ReLU(),\n",
    "    \n",
    "    nn.Flatten(),\n",
    "    \n",
    "    nn.Linear(4*4*4, 2),\n",
    "    \n",
    "    nn.Dropout(p=0.2),\n",
    "    \n",
    "    nn.Softmax(dim=1) \n",
    "        )"
   ]
  },
  {
   "cell_type": "markdown",
   "metadata": {},
   "source": [
    "### Define loss function"
   ]
  },
  {
   "cell_type": "code",
   "execution_count": 28,
   "metadata": {},
   "outputs": [],
   "source": [
    "class AverageLoss():\n",
    "    def __init__(self):\n",
    "        pass\n",
    "    \n",
    "    def __call__(self, outputs, targets):\n",
    "        \"\"\"\n",
    "        outputs:  shape (batch_size, number_classes), pre-softmax outputs\n",
    "        targets:  shape (batch_size, ), class indices [0,...,C-1] \n",
    "        \"\"\"        \n",
    "        # ---------------------------------------------------------------       \n",
    "        # The cross entropy is defined by\n",
    "        #   H(p, q) = -sum_i p_i log(q_i)\n",
    "        #\n",
    "        # The entropy is defined by\n",
    "        #   H(p)    = -sum_i p_i log(p_i)\n",
    "        #\n",
    "        # and the Kullback-Leibler divergence by\n",
    "        #   D(p||q) = -sum_i p_i log(p_i/q_i)\n",
    "        #           = -sum_i p_i log(p_i) + sum_i p_i log(q_i)\n",
    "        #           = H(p) - H(p, q)\n",
    "        #\n",
    "        # The cross entropy is minimized when the estimated \n",
    "        # probabilities q_i match the true probabilities p_i, in which \n",
    "        # case the cross entropy equals the entropy.\n",
    "        # --------------------------------------------------------------- \n",
    "        # Note the numpy-like syntax for accessing elements of the\n",
    "        # tensor: outputs[list1, list2] \n",
    "        # Note also: range(batch_size) is [0,...batch_size-1]\n",
    "        #\n",
    "        # outputs is a (-1, 10) tensor. For each image pick the output \n",
    "        # value corresponding to its class. Recall that targets is \n",
    "        # a 1D tensor (basically, a 1D array) of class labels. \n",
    "        # For every row, we pick the value in the column corresponding\n",
    "        # to the class label.\n",
    "        batch_size = len(outputs)\n",
    "        outputs    = outputs[range(batch_size), targets]\n",
    "        return -torch.mean(torch.log(outputs))"
   ]
  },
  {
   "cell_type": "code",
   "execution_count": 29,
   "metadata": {},
   "outputs": [],
   "source": [
    "avloss = AverageLoss()"
   ]
  },
  {
   "cell_type": "markdown",
   "metadata": {},
   "source": [
    "### Get batch\n",
    "Get a random sample from the training set of size $batch\\_size$"
   ]
  },
  {
   "cell_type": "code",
   "execution_count": 30,
   "metadata": {},
   "outputs": [],
   "source": [
    "def randomBatch(x, t, batch_size):\n",
    "    # the numpy function choice(length, number)\n",
    "    # selects at random \"number\" integers from \n",
    "    # the range [0, length-1] \n",
    "    rows    = rnd.choice(len(x), batch_size)\n",
    "    # pick out rows defined by the integers in array \"rows\"\n",
    "    batch_x = x[rows]\n",
    "    batch_t = t[rows]\n",
    "    return (batch_x, batch_t)"
   ]
  },
  {
   "cell_type": "markdown",
   "metadata": {},
   "source": [
    "### Accuracy\n",
    "Fraction of correct predictions"
   ]
  },
  {
   "cell_type": "code",
   "execution_count": 31,
   "metadata": {},
   "outputs": [],
   "source": [
    "def accuracy(outputs, targets):\n",
    "    # For each image, return its predicted class label using argmax.\n",
    "    #\n",
    "    # argmax scans the numpy along the specified axis, here the \n",
    "    # horizontal axis, which is in the class direction, and returns the\n",
    "    # ordinal value of the maximum value, which is the predicted class. \n",
    "    # Note: outputs must be converted from a tensor to a numpy array \n",
    "    # before being passed to argmax. axis=1 is to numpy what dim=1 is\n",
    "    # to PyTorch.\n",
    "    outputs = np.argmax(outputs.data.numpy(), axis=1)\n",
    "    \n",
    "    # count how often the predicted class matches the actual class and\n",
    "    # compute the fraction of correct predictions. \n",
    "    # Note: targets must be converted to a numpy array for the \n",
    "    # comparison to work since outputs is a numpy array.\n",
    "    return float(np.mean(outputs==targets.data.numpy()))"
   ]
  },
  {
   "cell_type": "markdown",
   "metadata": {},
   "source": [
    "### Trainer"
   ]
  },
  {
   "cell_type": "code",
   "execution_count": 32,
   "metadata": {},
   "outputs": [],
   "source": [
    "def train(model, optimizer, loss_fn, train_x, train_t, batch_size):\n",
    "    model.train() # training mode\n",
    "    \n",
    "    # get a random sequence of training data\n",
    "    batch_x, batch_t = randomBatch(train_x, train_t, batch_size)\n",
    "    H, W = batch_x.shape[-2:]\n",
    "    \n",
    "    # convert data from numpy arrays to tensors\n",
    "    with torch.no_grad():  # no need to compute gradients wrt. to x, t\n",
    "        x = torch.from_numpy(batch_x).view(-1, 1, H, W)     # change to shape (N, C, H, W)\n",
    "        t = torch.from_numpy(batch_t)       \n",
    "    \n",
    "    # compute output of model\n",
    "    y = model(x)\n",
    "    \n",
    "    # compute loss functions, given the model outputs and the targets\n",
    "    loss    = loss_fn(y, t)        \n",
    "    optimizer.zero_grad()  # clear previous gradients\n",
    "    loss.backward()        # compute gradients\n",
    "    optimizer.step()       # move one step\n",
    "        \n",
    "def validate(model, train_x, train_t, val_x, val_t):\n",
    "    n_val = len(val_x)\n",
    "    model.eval() # evaluation mode\n",
    "    \n",
    "    with torch.no_grad():  # no need to compute gradients wrt. to x, t\n",
    "        \n",
    "        batch_x, batch_t = randomBatch(train_x, train_t, n_val)\n",
    "        H, W = batch_x.shape[-2:]\n",
    "        x = torch.from_numpy(batch_x).view(-1, 1, H, W)\n",
    "        t = torch.from_numpy(batch_t)       \n",
    "        y = model(x)\n",
    "        acc_t = accuracy(y, t)\n",
    "          \n",
    "        batch_x, batch_t = randomBatch(val_x, val_t, n_val)  \n",
    "        x = torch.from_numpy(batch_x).view(-1, 1, H, W)\n",
    "        t = torch.from_numpy(batch_t)      \n",
    "        y = model(x)\n",
    "        acc_v = accuracy(y, t)\n",
    "\n",
    "    return (acc_t, acc_v)\n",
    "               \n",
    "def trainModel(model, optimizer, averageloss, modelfile,\n",
    "               train_x, train_t,\n",
    "               val_x, val_t,\n",
    "               n_iterations, batch_size, \n",
    "               xx=[], yy_t=[], yy_v=[], step=100):\n",
    "\n",
    "    max_acc_v = -1e30\n",
    "    print('%10s\\t%10s\\t%10s' % ('iteration', 'training', 'validation'))\n",
    "    \n",
    "    for ii in range(n_iterations):\n",
    "        train(model, optimizer, averageloss, \n",
    "              train_x, train_t, \n",
    "              batch_size)\n",
    "\n",
    "        if ii  < 5:\n",
    "            acc_t, acc_v = validate(model, \n",
    "                                    train_x, train_t, \n",
    "                                    val_x, val_t)\n",
    "            \n",
    "            print(\"%10d\\t%10.4f\\t%10.4f\" % (ii, acc_t, acc_v))\n",
    "            \n",
    "            if len(xx) == 0:\n",
    "                xx.append(0)\n",
    "            else:\n",
    "                xx.append(xx[-1]+step)\n",
    "            yy_t.append(acc_t)\n",
    "            yy_v.append(acc_v)\n",
    "\n",
    "        elif ii % step == 0:\n",
    "            acc_t, acc_v = validate(model, \n",
    "                                    train_x, train_t, \n",
    "                                    val_x, val_t)\n",
    "            \n",
    "            print(\"\\r%10d\\t%10.4f\\t%10.4f\" % (ii, acc_t, acc_v), end='')\n",
    "\n",
    "            xx.append(xx[-1]+step)\n",
    "            yy_t.append(acc_t)\n",
    "            yy_v.append(acc_v)\n",
    "            \n",
    "        if acc_v > max_acc_v:\n",
    "            max_acc_v = acc_v\n",
    "            torch.save(model.state_dict(), modelfile)\n",
    "            \n",
    "    print()\n",
    "    return (xx, yy_t, yy_v)"
   ]
  },
  {
   "cell_type": "markdown",
   "metadata": {},
   "source": [
    "### Create an instance of the model and choose minimizer"
   ]
  },
  {
   "cell_type": "code",
   "execution_count": 33,
   "metadata": {},
   "outputs": [],
   "source": [
    "def number_of_parameters(model):\n",
    "    return sum(p.numel() for p in model.parameters() if p.requires_grad)"
   ]
  },
  {
   "cell_type": "code",
   "execution_count": 52,
   "metadata": {},
   "outputs": [
    {
     "name": "stdout",
     "output_type": "stream",
     "text": [
      "Sequential(\n",
      "  (0): Conv2d(1, 4, kernel_size=(3, 3), stride=(1, 1), padding=(1, 1))\n",
      "  (1): MaxPool2d(kernel_size=(2, 2), stride=2, padding=0, dilation=1, ceil_mode=False)\n",
      "  (2): ReLU()\n",
      "  (3): Conv2d(4, 4, kernel_size=(3, 3), stride=(1, 1), padding=(1, 1))\n",
      "  (4): MaxPool2d(kernel_size=(2, 2), stride=2, padding=0, dilation=1, ceil_mode=False)\n",
      "  (5): ReLU()\n",
      "  (6): Flatten(start_dim=1, end_dim=-1)\n",
      "  (7): Linear(in_features=64, out_features=2, bias=True)\n",
      "  (8): Dropout(p=0.2, inplace=False)\n",
      "  (9): Softmax(dim=1)\n",
      ")\n",
      "number of parameters: 318\n"
     ]
    }
   ],
   "source": [
    "import CNN\n",
    "importlib.reload(CNN)\n",
    "\n",
    "model = CNN.model\n",
    "print(model)\n",
    "print('number of parameters:', number_of_parameters(model))"
   ]
  },
  {
   "cell_type": "markdown",
   "metadata": {},
   "source": [
    "### Train!\n",
    "\n",
    "During training, the model parameters are saved to **jet_cnn.dict** every time the current best prediction accuracy, using the validation data, is exceeded. "
   ]
  },
  {
   "cell_type": "code",
   "execution_count": 53,
   "metadata": {},
   "outputs": [],
   "source": [
    "modelfile = 'jet_cnn.dict'\n",
    "xx   = []  # iteration numbers\n",
    "yy_t = []  # prediction accuracy using training data\n",
    "yy_v = []  # prediction accuracy using validation data"
   ]
  },
  {
   "cell_type": "code",
   "execution_count": 54,
   "metadata": {},
   "outputs": [],
   "source": [
    "def plot(xx, yy_t, yy_v):\n",
    "    # create an empty figure\n",
    "    fig = plt.figure(figsize=(6, 4))\n",
    "    \n",
    "    # add a subplot to it\n",
    "    nrows, ncols, index = 1,1,1\n",
    "    ax  = fig.add_subplot(nrows,ncols,index)\n",
    "    \n",
    "    # axis limits\n",
    "    ax.set_ylim((0.5, 0.80))\n",
    "    ax.set_xlim((xx[0], xx[-1]))\n",
    "    \n",
    "    ax.plot(xx, yy_t, 'b', label='Training')\n",
    "    ax.plot(xx, yy_v, 'r', label='Validation')\n",
    "    \n",
    "    ax.set_title('Training and Validation Accuracy', fontsize=16)\n",
    "    ax.set_xlabel('Iterations', fontsize=16)\n",
    "    ax.set_ylabel('Accuracy', fontsize=16)\n",
    "    ax.grid(True, which=\"both\", linestyle='-')\n",
    "    \n",
    "    ax.legend(loc='lower right')\n",
    "    fig.tight_layout()\n",
    "    plt.savefig('accuracy.png')\n",
    "    plt.show()"
   ]
  },
  {
   "cell_type": "code",
   "execution_count": 55,
   "metadata": {},
   "outputs": [
    {
     "name": "stdout",
     "output_type": "stream",
     "text": [
      " iteration\t  training\tvalidation\n",
      "         0\t    0.4988\t    0.5134\n",
      "         1\t    0.5098\t    0.5142\n",
      "         2\t    0.4952\t    0.5106\n",
      "         3\t    0.4976\t    0.5020\n",
      "         4\t    0.4854\t    0.5210\n",
      "      5950\t    0.7036\t    0.6916\n",
      "\n",
      "done!\n"
     ]
    },
    {
     "data": {
      "image/png": "[encoded data removed]",
      "text/plain": [
       "<Figure size 600x400 with 1 Axes>"
      ]
     },
     "metadata": {},
     "output_type": "display_data"
    }
   ],
   "source": [
    "n_iter  =  6000    # number of iterations\n",
    "n_batch =   128    # number of images/training batch\n",
    "step = 50\n",
    "learning_rate = 1e-4\n",
    "optimizer = torch.optim.Adam(model.parameters(), lr=learning_rate)\n",
    "\n",
    "xx, yy_t, yy_v = trainModel(model, optimizer, avloss, modelfile,\n",
    "                            train_x, train_t, \n",
    "                            val_x,   val_t,\n",
    "                            n_iter,  n_batch, \n",
    "                            xx, yy_t, yy_v, \n",
    "                            step=step)\n",
    "\n",
    "print(\"\\ndone!\")\n",
    "\n",
    "plot(xx, yy_t, yy_v)"
   ]
  },
  {
   "cell_type": "markdown",
   "metadata": {},
   "source": [
    "### Compute accuracy on test data"
   ]
  },
  {
   "cell_type": "code",
   "execution_count": 56,
   "metadata": {},
   "outputs": [
    {
     "name": "stdout",
     "output_type": "stream",
     "text": [
      "Percentage of correct predictions:     69.2%\n"
     ]
    }
   ],
   "source": [
    "# if use_saved_model = False, use current parameters of trained model,\n",
    "# otherwise use model with largest prediction accuracy computed using\n",
    "# validation data.\n",
    "use_saved_model = True\n",
    "if use_saved_model:\n",
    "    model.load_state_dict(torch.load(modelfile))\n",
    "\n",
    "# remember to restructure inputs as an \n",
    "# (N, C, H, W) = (-1, 1, 16, 16) tensor\n",
    "x = torch.from_numpy(test_x).view(-1, 1, 16, 16)\n",
    "t = torch.from_numpy(test_t)\n",
    "\n",
    "model.eval()\n",
    "y = model(x)\n",
    "a = accuracy(y, t)\n",
    "\n",
    "print('Percentage of correct predictions: %8.1f%s' % (100*a, '%'))"
   ]
  },
  {
   "cell_type": "code",
   "execution_count": null,
   "metadata": {},
   "outputs": [],
   "source": []
  }
 ],
 "metadata": {
  "kernelspec": {
   "display_name": "Python 3 (ipykernel)",
   "language": "python",
   "name": "python3"
  },
  "language_info": {
   "codemirror_mode": {
    "name": "ipython",
    "version": 3
   },
   "file_extension": ".py",
   "mimetype": "text/x-python",
   "name": "python",
   "nbconvert_exporter": "python",
   "pygments_lexer": "ipython3",
   "version": "3.11.8"
  }
 },
 "nbformat": 4,
 "nbformat_minor": 4
}
